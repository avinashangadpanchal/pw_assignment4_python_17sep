{
  "nbformat": 4,
  "nbformat_minor": 0,
  "metadata": {
    "colab": {
      "provenance": []
    },
    "kernelspec": {
      "name": "python3",
      "display_name": "Python 3"
    },
    "language_info": {
      "name": "python"
    }
  },
  "cells": [
    {
      "cell_type": "markdown",
      "source": [
        "# **For Loop**"
      ],
      "metadata": {
        "id": "KH3kxevwBqYL"
      }
    },
    {
      "cell_type": "code",
      "source": [
        "# Question: 1.Write a Python program to print numbers from 1 to 10 using a for loop.\n",
        "\n",
        "for i in range(1, 11):\n",
        "  print(i)\n"
      ],
      "metadata": {
        "colab": {
          "base_uri": "https://localhost:8080/"
        },
        "id": "YCs1ph2OB_g2",
        "outputId": "17d441ae-b42f-40cc-89e7-3da560a9b45d"
      },
      "execution_count": null,
      "outputs": [
        {
          "output_type": "stream",
          "name": "stdout",
          "text": [
            "1\n",
            "2\n",
            "3\n",
            "4\n",
            "5\n",
            "6\n",
            "7\n",
            "8\n",
            "9\n",
            "10\n"
          ]
        }
      ]
    },
    {
      "cell_type": "code",
      "source": [
        "# Question: 2.Explain the difference between a for loop and a while loop in Python.\n",
        "\n",
        "# **For Loop:**\n",
        "# A for loop is used to iterate over a sequence (like a list, tuple, string, or range)\n",
        "# or other iterable object. It executes a block of code for each item in the sequence.\n",
        "\n",
        "# **While Loop:**\n",
        "# A while loop repeatedly executes a block of code as long as a given condition is true.\n",
        "\n",
        "# **Key Differences:**\n",
        "\n",
        "# * Iteration: For loops iterate over a known sequence, while loops iterate as long as a condition is met.\n",
        "# * Condition: For loops don't explicitly use a condition, while loops rely on a condition for execution.\n",
        "# * Use Cases: For loops are ideal for processing elements in a collection. While loops are suitable for scenarios where the number of iterations is unknown beforehand.\n",
        "\n",
        "# **Example:**\n",
        "\n",
        "# For loop to print numbers from 1 to 5\n",
        "for i in range(1, 6):\n",
        "  print(i)\n",
        "\n",
        "# While loop to print numbers from 1 to 5\n",
        "j = 1\n",
        "while j <= 5:\n",
        "  print(j)\n",
        "  j += 1\n"
      ],
      "metadata": {
        "colab": {
          "base_uri": "https://localhost:8080/"
        },
        "id": "1tFFpxEYCn2w",
        "outputId": "21145c5d-ca49-45bc-8b9c-85d41e5272a3"
      },
      "execution_count": null,
      "outputs": [
        {
          "output_type": "stream",
          "name": "stdout",
          "text": [
            "1\n",
            "2\n",
            "3\n",
            "4\n",
            "5\n",
            "1\n",
            "2\n",
            "3\n",
            "4\n",
            "5\n"
          ]
        }
      ]
    },
    {
      "cell_type": "code",
      "source": [
        "# Question: 3.Write a Python program to calculate the sum of all numbers from 1 to 100 using a for loop.\n",
        "\n",
        "# Calculate sum of numbers from 1 to 100\n",
        "sum = 0\n",
        "for i in range(1, 101):\n",
        "  sum += i\n",
        "\n",
        "print(\"The sum of numbers from 1 to 100 is:\", sum)\n"
      ],
      "metadata": {
        "colab": {
          "base_uri": "https://localhost:8080/"
        },
        "id": "qaAJthJ1Dfzb",
        "outputId": "c7dca7e9-bfbc-4fbb-aa10-cb55811e713d"
      },
      "execution_count": null,
      "outputs": [
        {
          "output_type": "stream",
          "name": "stdout",
          "text": [
            "The sum of numbers from 1 to 100 is: 5050\n"
          ]
        }
      ]
    },
    {
      "cell_type": "code",
      "source": [
        "# Question 4.: How do you iterate through a list using a for loop in Python?\n",
        "\n",
        "# Create a list\n",
        "my_list = [10, 20, 30, 40, 50]\n",
        "\n",
        "# Iterate through the list using a for loop\n",
        "for item in my_list:\n",
        "  print(item)\n"
      ],
      "metadata": {
        "colab": {
          "base_uri": "https://localhost:8080/"
        },
        "id": "kRT7F6zKEKEn",
        "outputId": "24fc6b73-266b-4771-a820-d39f4fd196cd"
      },
      "execution_count": null,
      "outputs": [
        {
          "output_type": "stream",
          "name": "stdout",
          "text": [
            "10\n",
            "20\n",
            "30\n",
            "40\n",
            "50\n"
          ]
        }
      ]
    },
    {
      "cell_type": "code",
      "source": [
        "# Question: Write a Python program to find the product of all elements in a list using a for loop.\n",
        "\n",
        "# Create a list\n",
        "my_list = [1, 2, 3, 4, 5]\n",
        "\n",
        "# Initialize the product to 1\n",
        "product = 1\n",
        "\n",
        "# Iterate through the list and calculate the product\n",
        "for item in my_list:\n",
        "  product *= item\n",
        "\n",
        "# Print the product\n",
        "print(\"The product of all elements in the list is:\", product)\n"
      ],
      "metadata": {
        "colab": {
          "base_uri": "https://localhost:8080/"
        },
        "id": "Aukk0YaSEgES",
        "outputId": "a155bfe0-4188-42f1-db62-bae7bb318e01"
      },
      "execution_count": null,
      "outputs": [
        {
          "output_type": "stream",
          "name": "stdout",
          "text": [
            "The product of all elements in the list is: 120\n"
          ]
        }
      ]
    },
    {
      "cell_type": "code",
      "source": [
        "# Question: Create a Python program that prints all even numbers from 1 to 20 using a for loop.\n",
        "\n",
        "for i in range(1, 21):\n",
        "  if i % 2 == 0:\n",
        "    print(i)\n"
      ],
      "metadata": {
        "colab": {
          "base_uri": "https://localhost:8080/"
        },
        "id": "Ao8kT9AiKEZN",
        "outputId": "7b45f5ce-2e1c-4c9e-d6ff-ce6f300affbf"
      },
      "execution_count": null,
      "outputs": [
        {
          "output_type": "stream",
          "name": "stdout",
          "text": [
            "2\n",
            "4\n",
            "6\n",
            "8\n",
            "10\n",
            "12\n",
            "14\n",
            "16\n",
            "18\n",
            "20\n"
          ]
        }
      ]
    },
    {
      "cell_type": "code",
      "source": [
        "# Question: Write a Python program that calculates the factorial of a number using a for loop.\n",
        "\n",
        "# Get input from the user\n",
        "num = int(input(\"Enter a number: \"))\n",
        "\n",
        "# Initialize factorial to 1\n",
        "factorial = 1\n",
        "\n",
        "# Calculate factorial\n",
        "if num < 0:\n",
        "  print(\"Factorial is not defined for negative numbers.\")\n",
        "elif num == 0:\n",
        "  print(\"The factorial of 0 is 1.\")\n",
        "else:\n",
        "  for i in range(1, num + 1):\n",
        "    factorial *= i\n",
        "  print(\"The factorial of\", num, \"is\", factorial)\n"
      ],
      "metadata": {
        "colab": {
          "base_uri": "https://localhost:8080/"
        },
        "id": "vEcu24RTKNWp",
        "outputId": "053cbe34-bc11-412d-f70a-a3d5cbf0a763"
      },
      "execution_count": null,
      "outputs": [
        {
          "output_type": "stream",
          "name": "stdout",
          "text": [
            "Enter a number: 5\n",
            "The factorial of 5 is 120\n"
          ]
        }
      ]
    },
    {
      "cell_type": "code",
      "source": [
        "# Question: How can you iterate through the characters of a string using a for loop in Python\n",
        "\n",
        "my_string = \"Hello\"\n",
        "for char in my_string:\n",
        "  print(char)\n"
      ],
      "metadata": {
        "colab": {
          "base_uri": "https://localhost:8080/"
        },
        "id": "i7A5m6YyKUfE",
        "outputId": "619b61a7-e691-4200-cca6-69efffe10ba0"
      },
      "execution_count": null,
      "outputs": [
        {
          "output_type": "stream",
          "name": "stdout",
          "text": [
            "H\n",
            "e\n",
            "l\n",
            "l\n",
            "o\n"
          ]
        }
      ]
    },
    {
      "cell_type": "code",
      "source": [
        "# Question: Write a Python program to find the largest number in a list using a for loop.\n",
        "\n",
        "# Create a list\n",
        "my_list = [10, 20, 5, 40, 30]\n",
        "\n",
        "# Initialize largest number to the first element of the list\n",
        "largest_number = my_list[0]\n",
        "\n",
        "# Iterate through the list to find the largest number\n",
        "for item in my_list:\n",
        "  if item > largest_number:\n",
        "    largest_number = item\n",
        "\n",
        "# Print the largest number\n",
        "print(\"The largest number in the list is:\", largest_number)\n"
      ],
      "metadata": {
        "colab": {
          "base_uri": "https://localhost:8080/"
        },
        "id": "UcfBz9KSKmQo",
        "outputId": "210097ae-c8f8-4752-ef38-9205b125f493"
      },
      "execution_count": null,
      "outputs": [
        {
          "output_type": "stream",
          "name": "stdout",
          "text": [
            "The largest number in the list is: 40\n"
          ]
        }
      ]
    },
    {
      "cell_type": "code",
      "source": [
        "# Question: Create a Python program that prints the Fibonacci sequence up to a specified limit using a for loop.\n",
        "\n",
        "# Get input from the user for the limit\n",
        "limit = int(input(\"Enter the limit for the Fibonacci sequence: \"))\n",
        "\n",
        "# Initialize the first two numbers of the sequence\n",
        "a = 0\n",
        "b = 1\n",
        "\n",
        "# Print the first two numbers\n",
        "print(a)\n",
        "print(b)\n",
        "\n",
        "# Calculate and print the remaining numbers in the sequence\n",
        "for i in range(2, limit):\n",
        "  next_num = a + b\n",
        "  print(next_num)\n",
        "  a = b\n",
        "  b = next_num\n"
      ],
      "metadata": {
        "colab": {
          "base_uri": "https://localhost:8080/"
        },
        "id": "o2s7-iqOK0Zp",
        "outputId": "4b3f761b-a099-42fc-d9d4-f25c1632d521"
      },
      "execution_count": null,
      "outputs": [
        {
          "output_type": "stream",
          "name": "stdout",
          "text": [
            "Enter the limit for the Fibonacci sequence: 4\n",
            "0\n",
            "1\n",
            "1\n",
            "2\n"
          ]
        }
      ]
    },
    {
      "cell_type": "code",
      "source": [
        "# Question: Write a Python program to count the number of vowels in a given string using a for loop.\n",
        "\n",
        "# Get input from the user\n",
        "string = input(\"Enter a string: \")\n",
        "\n",
        "# Convert the string to lowercase\n",
        "string = string.lower()\n",
        "\n",
        "# Initialize the vowel count to 0\n",
        "vowel_count = 0\n",
        "\n",
        "# Define a set of vowels\n",
        "vowels = set(\"aeiou\")\n",
        "\n",
        "# Iterate through the string and count vowels\n",
        "for char in string:\n",
        "  if char in vowels:\n",
        "    vowel_count += 1\n",
        "\n",
        "# Print the vowel count\n",
        "print(\"The number of vowels in the string is:\", vowel_count)\n"
      ],
      "metadata": {
        "colab": {
          "base_uri": "https://localhost:8080/"
        },
        "id": "ot4t8MbnLZvM",
        "outputId": "f8905b75-39d9-4718-ebac-ef3119efac26"
      },
      "execution_count": null,
      "outputs": [
        {
          "output_type": "stream",
          "name": "stdout",
          "text": [
            "Enter a string: fknsdfl\n",
            "The number of vowels in the string is: 0\n"
          ]
        }
      ]
    },
    {
      "cell_type": "code",
      "source": [
        "# Question: Create a Python program that generates a multiplication table for a given number using a for loop.\n",
        "\n",
        "# Get input from the user\n",
        "num = int(input(\"Enter a number: \"))\n",
        "\n",
        "# Generate the multiplication table\n",
        "for i in range(1, 11):\n",
        "  print(num, \"x\", i, \"=\", num*i)\n"
      ],
      "metadata": {
        "colab": {
          "base_uri": "https://localhost:8080/"
        },
        "id": "Ql7Ve9o5Lde_",
        "outputId": "d822cd9e-b552-469d-f09e-a121675eecdd"
      },
      "execution_count": null,
      "outputs": [
        {
          "output_type": "stream",
          "name": "stdout",
          "text": [
            "Enter a number: 25\n",
            "25 x 1 = 25\n",
            "25 x 2 = 50\n",
            "25 x 3 = 75\n",
            "25 x 4 = 100\n",
            "25 x 5 = 125\n",
            "25 x 6 = 150\n",
            "25 x 7 = 175\n",
            "25 x 8 = 200\n",
            "25 x 9 = 225\n",
            "25 x 10 = 250\n"
          ]
        }
      ]
    },
    {
      "cell_type": "code",
      "source": [
        "# Question: Write a Python program to reverse a list using a for loop.\n",
        "\n",
        "# Get the list from the user\n",
        "my_list = [10, 20, 30, 40, 50]\n",
        "\n",
        "# Reverse the list using a for loop\n",
        "reversed_list = []\n",
        "for i in range(len(my_list) - 1, -1, -1):\n",
        "  reversed_list.append(my_list[i])\n",
        "\n",
        "# Print the reversed list\n",
        "print(\"Reversed list:\", reversed_list)\n"
      ],
      "metadata": {
        "colab": {
          "base_uri": "https://localhost:8080/"
        },
        "id": "OGhVoEleLl3K",
        "outputId": "b27bccbb-c1d6-41db-cbbb-cc68b8892bad"
      },
      "execution_count": null,
      "outputs": [
        {
          "output_type": "stream",
          "name": "stdout",
          "text": [
            "Reversed list: [50, 40, 30, 20, 10]\n"
          ]
        }
      ]
    },
    {
      "cell_type": "code",
      "source": [
        "# Question: Write a Python program to find the common elements between two lists using a for loop.\n",
        "\n",
        "# Get the lists from the user\n",
        "list1 = [1, 2, 3, 4, 5]\n",
        "list2 = [3, 5, 6, 7, 8]\n",
        "\n",
        "# Find common elements using a for loop\n",
        "common_elements = []\n",
        "for item1 in list1:\n",
        "  for item2 in list2:\n",
        "    if item1 == item2:\n",
        "      common_elements.append(item1)\n",
        "\n",
        "# Print the common elements\n",
        "print(\"Common elements:\", common_elements)\n"
      ],
      "metadata": {
        "colab": {
          "base_uri": "https://localhost:8080/"
        },
        "id": "23wSsBVNLlwf",
        "outputId": "050147fa-8364-4cce-d48a-791a9d22febf"
      },
      "execution_count": null,
      "outputs": [
        {
          "output_type": "stream",
          "name": "stdout",
          "text": [
            "Common elements: [3, 5]\n"
          ]
        }
      ]
    },
    {
      "cell_type": "code",
      "source": [
        "# Question: Explain how to use a for loop to iterate through the keys and values of a dictionary in Python.\n",
        "\n",
        "# You can iterate through the keys and values of a dictionary in Python using a for loop and the items() method.\n",
        "\n",
        "# Example:\n",
        "my_dict = {'a': 1, 'b': 2, 'c': 3}\n",
        "\n",
        "for key, value in my_dict.items():\n",
        "  print(key, value)\n",
        "\n",
        "# This will print:\n",
        "# a 1\n",
        "# b 2\n",
        "# c 3\n"
      ],
      "metadata": {
        "colab": {
          "base_uri": "https://localhost:8080/"
        },
        "id": "QPd_sx-jLlpT",
        "outputId": "49aaf04b-4b8f-4ea0-b6b1-376d305ae0d7"
      },
      "execution_count": null,
      "outputs": [
        {
          "output_type": "stream",
          "name": "stdout",
          "text": [
            "a 1\n",
            "b 2\n",
            "c 3\n"
          ]
        }
      ]
    },
    {
      "cell_type": "code",
      "source": [
        "# Question: Write a Python program to find the GCD (Greatest Common Divisor) of two numbers using a for loop\n",
        "\n",
        "# Get input from the user\n",
        "num1 = int(input(\"Enter the first number: \"))\n",
        "num2 = int(input(\"Enter the second number: \"))\n",
        "\n",
        "# Find the smaller number\n",
        "if num1 < num2:\n",
        "  smaller = num1\n",
        "else:\n",
        "  smaller = num2\n",
        "\n",
        "# Find the GCD\n",
        "for i in range(1, smaller + 1):\n",
        "  if num1 % i == 0 and num2 % i == 0:\n",
        "    gcd = i\n",
        "\n",
        "# Print the GCD\n",
        "print(\"The GCD of\", num1, \"and\", num2, \"is\", gcd)\n"
      ],
      "metadata": {
        "colab": {
          "base_uri": "https://localhost:8080/"
        },
        "id": "f6AANtYgLlhE",
        "outputId": "dd880682-f8e5-418f-91f4-a3db4ebaf8c1"
      },
      "execution_count": null,
      "outputs": [
        {
          "output_type": "stream",
          "name": "stdout",
          "text": [
            "Enter the first number: 45\n",
            "Enter the second number: 25\n",
            "The GCD of 45 and 25 is 5\n"
          ]
        }
      ]
    },
    {
      "cell_type": "code",
      "source": [
        "# Question: Create a Python program that checks if a string is a palindrome using a for loop.\n",
        "\n",
        "# Get input from the user\n",
        "string = input(\"Enter a string: \")\n",
        "\n",
        "# Remove spaces and convert to lowercase\n",
        "string = string.replace(\" \", \"\").lower()\n",
        "\n",
        "# Check if the string is a palindrome\n",
        "is_palindrome = True\n",
        "for i in range(len(string) // 2):\n",
        "  if string[i] != string[len(string) - i - 1]:\n",
        "    is_palindrome = False\n",
        "    break\n",
        "\n",
        "# Print the result\n",
        "if is_palindrome:\n",
        "  print(\"The string is a palindrome.\")\n",
        "else:\n",
        "  print(\"The string is not a palindrome.\")\n"
      ],
      "metadata": {
        "colab": {
          "base_uri": "https://localhost:8080/"
        },
        "id": "4aUyQD5oLlXK",
        "outputId": "b925326c-7119-411a-b74a-0359add88522"
      },
      "execution_count": null,
      "outputs": [
        {
          "output_type": "stream",
          "name": "stdout",
          "text": [
            "Enter a string: avinash\n",
            "The string is not a palindrome.\n"
          ]
        }
      ]
    },
    {
      "cell_type": "code",
      "source": [
        "# Question: Write a Python program to remove duplicates from a list using a for loop.\n",
        "\n",
        "# Get the list from the user\n",
        "my_list = [10, 20, 30, 20, 40, 50, 10, 60, 40]\n",
        "\n",
        "# Remove duplicates using a for loop\n",
        "unique_list = []\n",
        "for item in my_list:\n",
        "  if item not in unique_list:\n",
        "    unique_list.append(item)\n",
        "\n",
        "# Print the list without duplicates\n",
        "print(\"List without duplicates:\", unique_list)\n"
      ],
      "metadata": {
        "colab": {
          "base_uri": "https://localhost:8080/"
        },
        "id": "JB5-VLGeLlMu",
        "outputId": "85d4b70d-d3df-46fa-f716-067ff7b05c6d"
      },
      "execution_count": null,
      "outputs": [
        {
          "output_type": "stream",
          "name": "stdout",
          "text": [
            "List without duplicates: [10, 20, 30, 40, 50, 60]\n"
          ]
        }
      ]
    },
    {
      "cell_type": "code",
      "source": [
        "# Question: Create a Python program that counts the number of words in a sentence using a for loop.\n",
        "\n",
        "# Get input from the user\n",
        "sentence = input(\"Enter a sentence: \")\n",
        "\n",
        "# Initialize word count to 0\n",
        "word_count = 0\n",
        "\n",
        "# Iterate through the sentence and count words\n",
        "for char in sentence:\n",
        "  if char == \" \":\n",
        "    word_count += 1\n",
        "\n",
        "# Add 1 to account for the last word\n",
        "word_count += 1\n",
        "\n",
        "# Print the word count\n",
        "print(\"The number of words in the sentence is:\", word_count)\n"
      ],
      "metadata": {
        "colab": {
          "base_uri": "https://localhost:8080/"
        },
        "id": "02n8z4XpLxZy",
        "outputId": "1dde7f8e-c7f4-414a-e631-226c794711bd"
      },
      "execution_count": null,
      "outputs": [
        {
          "output_type": "stream",
          "name": "stdout",
          "text": [
            "Enter a sentence: avinash is smart\n",
            "The number of words in the sentence is: 3\n"
          ]
        }
      ]
    },
    {
      "cell_type": "code",
      "source": [
        "# Question: Write a Python program to find the sum of all odd numbers from 1 to 50 using a for loop.\n",
        "\n",
        "# Initialize sum to 0\n",
        "sum = 0\n",
        "\n",
        "# Iterate through odd numbers from 1 to 50\n",
        "for i in range(1, 51, 2):\n",
        "  sum += i\n",
        "\n",
        "# Print the sum\n",
        "print(\"The sum of odd numbers from 1 to 50 is:\", sum)\n"
      ],
      "metadata": {
        "colab": {
          "base_uri": "https://localhost:8080/"
        },
        "id": "4VnbjuLaLyHg",
        "outputId": "04fceedf-4e41-4513-bda6-0198e2bc17a3"
      },
      "execution_count": null,
      "outputs": [
        {
          "output_type": "stream",
          "name": "stdout",
          "text": [
            "The sum of odd numbers from 1 to 50 is: 625\n"
          ]
        }
      ]
    },
    {
      "cell_type": "code",
      "source": [
        "# Question: Write a Python program that checks if a given year is a leap year using a for loop.\n",
        "\n",
        "# Get input from the user\n",
        "year = int(input(\"Enter a year: \"))\n",
        "\n",
        "# Check if it's a leap year\n",
        "is_leap = False\n",
        "if year % 4 == 0:\n",
        "  if year % 100 == 0:\n",
        "    if year % 400 == 0:\n",
        "      is_leap = True\n",
        "  else:\n",
        "    is_leap = True\n",
        "\n",
        "# Print the result\n",
        "if is_leap:\n",
        "  print(year, \"is a leap year.\")\n",
        "else:\n",
        "  print(year, \"is not a leap year.\")\n"
      ],
      "metadata": {
        "colab": {
          "base_uri": "https://localhost:8080/"
        },
        "id": "d9Gf4mMcMWT_",
        "outputId": "5e530543-3eec-490b-c513-e57cacd19a4b"
      },
      "execution_count": null,
      "outputs": [
        {
          "output_type": "stream",
          "name": "stdout",
          "text": [
            "Enter a year: 2020\n",
            "2020 is a leap year.\n"
          ]
        }
      ]
    },
    {
      "cell_type": "code",
      "source": [
        "# Question: Create a Python program that calculates the square root of a number using a for loop.\n",
        "\n",
        "# Get input from the user\n",
        "num = float(input(\"Enter a number: \"))\n",
        "\n",
        "# Check if the number is negative\n",
        "if num < 0:\n",
        "  print(\"Cannot calculate the square root of a negative number.\")\n",
        "else:\n",
        "  # Initialize the square root\n",
        "  sqrt = 0\n",
        "\n",
        "  # Find the square root using a for loop\n",
        "  for i in range(int(num) + 1):\n",
        "    if i * i == num:\n",
        "      sqrt = i\n",
        "      break\n",
        "    elif i * i > num:\n",
        "      sqrt = i - 1\n",
        "      break\n",
        "\n",
        "  # Print the square root\n",
        "  if sqrt * sqrt == num:\n",
        "    print(\"The square root of\", num, \"is\", sqrt)\n",
        "  else:\n",
        "    print(\"The approximate square root of\", num, \"is\", sqrt)\n"
      ],
      "metadata": {
        "colab": {
          "base_uri": "https://localhost:8080/"
        },
        "id": "kXO2KBJ_MWIY",
        "outputId": "c3135417-88db-4576-d625-bb43886f6abe"
      },
      "execution_count": null,
      "outputs": [
        {
          "output_type": "stream",
          "name": "stdout",
          "text": [
            "Enter a number: 45\n",
            "The approximate square root of 45.0 is 6\n"
          ]
        }
      ]
    },
    {
      "cell_type": "code",
      "source": [
        "# Question: Write a Python program to find the LCM (Least Common Multiple) of two numbers using a for loop\n",
        "\n",
        "# Get input from the user\n",
        "num1 = int(input(\"Enter the first number: \"))\n",
        "num2 = int(input(\"Enter the second number: \"))\n",
        "\n",
        "# Find the larger number\n",
        "if num1 > num2:\n",
        "  larger = num1\n",
        "else:\n",
        "  larger = num2\n",
        "\n",
        "# Find the LCM\n",
        "lcm = larger\n",
        "while True:\n",
        "  if lcm % num1 == 0 and lcm % num2 == 0:\n",
        "    break\n",
        "  lcm += larger\n",
        "\n",
        "# Print the LCM\n",
        "print(\"The LCM of\", num1, \"and\", num2, \"is\", lcm)\n"
      ],
      "metadata": {
        "colab": {
          "base_uri": "https://localhost:8080/"
        },
        "id": "rVDBuxIQMV7y",
        "outputId": "a14d5eae-8d29-4237-da35-2201cb467347"
      },
      "execution_count": null,
      "outputs": [
        {
          "output_type": "stream",
          "name": "stdout",
          "text": [
            "Enter the first number: 55\n",
            "Enter the second number: 45\n",
            "The LCM of 55 and 45 is 495\n"
          ]
        }
      ]
    },
    {
      "cell_type": "markdown",
      "source": [
        "# **If else**"
      ],
      "metadata": {
        "id": "MT6CbvR0MhcX"
      }
    },
    {
      "cell_type": "code",
      "source": [
        "# Question: Write a Python program to check if a number is positive, negative, or zero using an if-else statement.\n",
        "\n",
        "# Get input from the user\n",
        "num = float(input(\"Enter a number: \"))\n",
        "\n",
        "# Check if the number is positive, negative, or zero\n",
        "if num > 0:\n",
        "  print(\"The number is positive.\")\n",
        "elif num < 0:\n",
        "  print(\"The number is negative.\")\n",
        "else:\n",
        "  print(\"The number is zero.\")\n"
      ],
      "metadata": {
        "colab": {
          "base_uri": "https://localhost:8080/"
        },
        "id": "32xwCnEEMlmi",
        "outputId": "356f249b-7cd2-4377-8cbf-34b5e267d4bc"
      },
      "execution_count": null,
      "outputs": [
        {
          "output_type": "stream",
          "name": "stdout",
          "text": [
            "Enter a number: 45\n",
            "The number is positive.\n"
          ]
        }
      ]
    },
    {
      "cell_type": "code",
      "source": [
        "# Question: Create a Python program that checks if a given number is even or odd using an if-else statement.\n",
        "\n",
        "# Get input from the user\n",
        "num = int(input(\"Enter a number: \"))\n",
        "\n",
        "# Check if the number is even or odd\n",
        "if num % 2 == 0:\n",
        "  print(\"The number is even.\")\n",
        "else:\n",
        "  print(\"The number is odd.\")\n"
      ],
      "metadata": {
        "colab": {
          "base_uri": "https://localhost:8080/"
        },
        "id": "z5TzDKO-NFQi",
        "outputId": "99dc8b7f-7f31-4825-f45b-b4aecffb266c"
      },
      "execution_count": null,
      "outputs": [
        {
          "output_type": "stream",
          "name": "stdout",
          "text": [
            "Enter a number: 45\n",
            "The number is odd.\n"
          ]
        }
      ]
    },
    {
      "cell_type": "code",
      "source": [
        "# Question: How can you use nested if-else statements in Python, and provide an example?\n",
        "\n",
        "# Nested if-else statements allow you to check for multiple conditions within conditions.\n",
        "\n",
        "# Example: Check if a number is positive, negative, or zero, and if positive, check if it's even or odd.\n",
        "\n",
        "num = int(input(\"Enter a number: \"))\n",
        "\n",
        "if num > 0:\n",
        "  print(\"The number is positive.\")\n",
        "  if num % 2 == 0:\n",
        "    print(\"The number is even.\")\n",
        "  else:\n",
        "    print(\"The number is odd.\")\n",
        "elif num < 0:\n",
        "  print(\"The number is negative.\")\n",
        "else:\n",
        "  print(\"The number is zero.\")\n"
      ],
      "metadata": {
        "colab": {
          "base_uri": "https://localhost:8080/"
        },
        "id": "cv8ro3NONJ0S",
        "outputId": "59af0c3d-b9ba-4911-e196-fe51eb70f19e"
      },
      "execution_count": null,
      "outputs": [
        {
          "output_type": "stream",
          "name": "stdout",
          "text": [
            "Enter a number: 243\n",
            "The number is positive.\n",
            "The number is odd.\n"
          ]
        }
      ]
    },
    {
      "cell_type": "code",
      "source": [
        "# Question: Write a Python program to determine the largest of three numbers using if-else.\n",
        "\n",
        "# Get input from the user\n",
        "num1 = float(input(\"Enter the first number: \"))\n",
        "num2 = float(input(\"Enter the second number: \"))\n",
        "num3 = float(input(\"Enter the third number: \"))\n",
        "\n",
        "# Determine the largest number\n",
        "if num1 >= num2 and num1 >= num3:\n",
        "  largest = num1\n",
        "elif num2 >= num1 and num2 >= num3:\n",
        "  largest = num2\n",
        "else:\n",
        "  largest = num3\n",
        "\n",
        "# Print the largest number\n",
        "print(\"The largest number is:\", largest)\n"
      ],
      "metadata": {
        "colab": {
          "base_uri": "https://localhost:8080/"
        },
        "id": "C9jpLGyNNf7T",
        "outputId": "69df9779-af54-4938-fb5a-94725c0ce2f8"
      },
      "execution_count": null,
      "outputs": [
        {
          "output_type": "stream",
          "name": "stdout",
          "text": [
            "Enter the first number: 45545\n",
            "Enter the second number: 24254\n",
            "Enter the third number: 4855444\n",
            "The largest number is: 4855444.0\n"
          ]
        }
      ]
    },
    {
      "cell_type": "code",
      "source": [
        "# Question: Write a Python program that calculates the absolute value of a number using if-else.\n",
        "\n",
        "# Get input from the user\n",
        "num = float(input(\"Enter a number: \"))\n",
        "\n",
        "# Calculate the absolute value\n",
        "if num < 0:\n",
        "  abs_value = -num\n",
        "else:\n",
        "  abs_value = num\n",
        "\n",
        "# Print the absolute value\n",
        "print(\"The absolute value of\", num, \"is\", abs_value)\n"
      ],
      "metadata": {
        "colab": {
          "base_uri": "https://localhost:8080/"
        },
        "id": "pN-0aOM0NjCd",
        "outputId": "faba44de-eb78-4008-a8ca-31b3f8b9fcec"
      },
      "execution_count": null,
      "outputs": [
        {
          "output_type": "stream",
          "name": "stdout",
          "text": [
            "Enter a number: -545445\n",
            "The absolute value of -545445.0 is 545445.0\n"
          ]
        }
      ]
    },
    {
      "cell_type": "code",
      "source": [],
      "metadata": {
        "id": "JeGu41mAc9ZV"
      },
      "execution_count": null,
      "outputs": []
    },
    {
      "cell_type": "code",
      "source": [
        "# Question: Create a Python program that checks if a given character is a vowel or consonant using if-else.\n",
        "\n",
        "# Get input from the user\n",
        "char = input(\"Enter a character: \")\n",
        "\n",
        "# Convert the character to lowercase\n",
        "char = char.lower()\n",
        "\n",
        "# Check if the character is a vowel or consonant\n",
        "if char in ('a', 'e', 'i', 'o', 'u'):\n",
        "  print(\"The character is a vowel.\")\n",
        "elif char.isalpha():\n",
        "  print(\"The character is a consonant.\")\n",
        "else:\n",
        "  print(\"The character is not a letter.\")\n"
      ],
      "metadata": {
        "colab": {
          "base_uri": "https://localhost:8080/"
        },
        "id": "soIhDvcsNmLN",
        "outputId": "55b9441f-f753-43b5-d017-d2a1dc810ea9"
      },
      "execution_count": null,
      "outputs": [
        {
          "output_type": "stream",
          "name": "stdout",
          "text": [
            "Enter a character: a\n",
            "The character is a vowel.\n"
          ]
        }
      ]
    },
    {
      "cell_type": "code",
      "source": [
        "# Question: Write a Python program to determine if a user is eligible to vote based on their age using if-else.\n",
        "\n",
        "# Get the user's age\n",
        "age = int(input(\"Enter your age: \"))\n",
        "\n",
        "# Check if the user is eligible to vote\n",
        "if age >= 18:\n",
        "  print(\"You are eligible to vote.\")\n",
        "else:\n",
        "  print(\"You are not eligible to vote.\")\n"
      ],
      "metadata": {
        "colab": {
          "base_uri": "https://localhost:8080/"
        },
        "id": "ThbS_3aeNo3f",
        "outputId": "5e56ee0d-c037-466c-a998-6c0aa280a5dd"
      },
      "execution_count": null,
      "outputs": [
        {
          "output_type": "stream",
          "name": "stdout",
          "text": [
            "Enter your age: 25\n",
            "You are eligible to vote.\n"
          ]
        }
      ]
    },
    {
      "cell_type": "code",
      "source": [
        "# Question: Create a Python program that calculates the discount amount based on the purchase amount using if-else.\n",
        "\n",
        "# Get the purchase amount from the user\n",
        "purchase_amount = float(input(\"Enter the purchase amount: \"))\n",
        "\n",
        "# Calculate the discount amount based on the purchase amount\n",
        "if purchase_amount >= 100:\n",
        "  discount = 0.1 * purchase_amount  # 10% discount\n",
        "elif purchase_amount >= 50:\n",
        "  discount = 0.05 * purchase_amount  # 5% discount\n",
        "else:\n",
        "  discount = 0  # No discount\n",
        "\n",
        "# Calculate the final amount after discount\n",
        "final_amount = purchase_amount - discount\n",
        "\n",
        "# Print the discount and final amount\n",
        "print(\"Discount amount:\", discount)\n",
        "print(\"Final amount:\", final_amount)\n"
      ],
      "metadata": {
        "colab": {
          "base_uri": "https://localhost:8080/"
        },
        "id": "EVIwJ-ExNsd4",
        "outputId": "016e7ef0-a950-4d23-b469-f5d8c58b6b66"
      },
      "execution_count": null,
      "outputs": [
        {
          "output_type": "stream",
          "name": "stdout",
          "text": [
            "Enter the purchase amount: 2050\n",
            "Discount amount: 205.0\n",
            "Final amount: 1845.0\n"
          ]
        }
      ]
    },
    {
      "cell_type": "code",
      "source": [
        "# Question: Write a Python program to check if a number is within a specified range using if-else.\n",
        "\n",
        "# Get input from the user\n",
        "num = int(input(\"Enter a number: \"))\n",
        "lower_bound = int(input(\"Enter the lower bound of the range: \"))\n",
        "upper_bound = int(input(\"Enter the upper bound of the range: \"))\n",
        "\n",
        "# Check if the number is within the range\n",
        "if num >= lower_bound and num <= upper_bound:\n",
        "  print(\"The number is within the specified range.\")\n",
        "else:\n",
        "  print(\"The number is not within the specified range.\")\n"
      ],
      "metadata": {
        "colab": {
          "base_uri": "https://localhost:8080/"
        },
        "id": "duvPSagdNvLK",
        "outputId": "38661d5d-f12f-4784-e69b-8e64e1b2725b"
      },
      "execution_count": null,
      "outputs": [
        {
          "output_type": "stream",
          "name": "stdout",
          "text": [
            "Enter a number: 45\n",
            "Enter the lower bound of the range: 2\n",
            "Enter the upper bound of the range: 50\n",
            "The number is within the specified range.\n"
          ]
        }
      ]
    },
    {
      "cell_type": "code",
      "source": [
        "# Question: Create a Python program that determines the grade of a student based on their score using if-else.\n",
        "\n",
        "# Get the student's score\n",
        "score = int(input(\"Enter the student's score: \"))\n",
        "\n",
        "# Determine the grade based on the score\n",
        "if score >= 90:\n",
        "  grade = \"A\"\n",
        "elif score >= 80:\n",
        "  grade = \"B\"\n",
        "elif score >= 70:\n",
        "  grade = \"C\"\n",
        "elif score >= 60:\n",
        "  grade = \"D\"\n",
        "else:\n",
        "  grade = \"F\"\n",
        "\n",
        "# Print the grade\n",
        "print(\"The student grade is:\", grade)\n"
      ],
      "metadata": {
        "colab": {
          "base_uri": "https://localhost:8080/"
        },
        "id": "V4bX5iaUNx38",
        "outputId": "57aebebf-441c-47dd-a3ea-92a2d96e6b02"
      },
      "execution_count": null,
      "outputs": [
        {
          "output_type": "stream",
          "name": "stdout",
          "text": [
            "Enter the student's score: 50\n",
            "The student grade is: F\n"
          ]
        }
      ]
    },
    {
      "cell_type": "code",
      "source": [
        "# Question: Write a Python program to check if a string is empty or not using if-else.\n",
        "\n",
        "# Get input from the user\n",
        "string = input(\"Enter a string: \")\n",
        "\n",
        "# Check if the string is empty\n",
        "if not string:\n",
        "  print(\"The string is empty.\")\n",
        "else:\n",
        "  print(\"The string is not empty.\")\n"
      ],
      "metadata": {
        "colab": {
          "base_uri": "https://localhost:8080/"
        },
        "id": "0uoLJ9CLOVye",
        "outputId": "89a1c93b-8477-4e20-b982-9207db213693"
      },
      "execution_count": null,
      "outputs": [
        {
          "output_type": "stream",
          "name": "stdout",
          "text": [
            "Enter a string: \n",
            "The string is empty.\n"
          ]
        }
      ]
    },
    {
      "cell_type": "code",
      "source": [
        "# Question: Create a Python program that identifies the type of a triangle (e.g., equilateral, isosceles, or scalene) based on input values using if-else\n",
        "\n",
        "# Get input from the user for the sides of the triangle\n",
        "side1 = float(input(\"Enter the length of side 1: \"))\n",
        "side2 = float(input(\"Enter the length of side 2: \"))\n",
        "side3 = float(input(\"Enter the length of side 3: \"))\n",
        "\n",
        "# Check if the triangle is valid\n",
        "if side1 + side2 > side3 and side2 + side3 > side1 and side1 + side3 > side2:\n",
        "  # Check the type of triangle\n",
        "  if side1 == side2 == side3:\n",
        "    triangle_type = \"Equilateral\"\n",
        "  elif side1 == side2 or side2 == side3 or side1 == side3:\n",
        "    triangle_type = \"Isosceles\"\n",
        "  else:\n",
        "    triangle_type = \"Scalene\"\n",
        "\n",
        "  # Print the type of triangle\n",
        "  print(\"The triangle is\", triangle_type)\n",
        "else:\n",
        "  print(\"Invalid triangle. The sum of any two sides must be greater than the third side.\")\n"
      ],
      "metadata": {
        "colab": {
          "base_uri": "https://localhost:8080/"
        },
        "id": "TvjOS_LAOVn6",
        "outputId": "e1acedab-8642-45f3-e5c8-581cdaeea84d"
      },
      "execution_count": null,
      "outputs": [
        {
          "output_type": "stream",
          "name": "stdout",
          "text": [
            "Enter the length of side 1: 5\n",
            "Enter the length of side 2: 7\n",
            "Enter the length of side 3: 3\n",
            "The triangle is Scalene\n"
          ]
        }
      ]
    },
    {
      "cell_type": "code",
      "source": [
        "# Question: Write a Python program to determine the day of the week based on a user-provided number using if-else.\n",
        "\n",
        "# Get the day number from the user\n",
        "day_num = int(input(\"Enter a number between 1 and 7: \"))\n",
        "\n",
        "# Determine the day of the week\n",
        "if day_num == 1:\n",
        "  day = \"Sunday\"\n",
        "elif day_num == 2:\n",
        "  day = \"Monday\"\n",
        "elif day_num == 3:\n",
        "  day = \"Tuesday\"\n",
        "elif day_num == 4:\n",
        "  day = \"Wednesday\"\n",
        "elif day_num == 5:\n",
        "  day = \"Thursday\"\n",
        "elif day_num == 6:\n",
        "  day = \"Friday\"\n",
        "elif day_num == 7:\n",
        "  day = \"Saturday\"\n",
        "else:\n",
        "  day = \"Invalid number. Please enter a number between 1 and 7.\"\n",
        "\n",
        "# Print the day of the week\n",
        "print(day)\n"
      ],
      "metadata": {
        "colab": {
          "base_uri": "https://localhost:8080/"
        },
        "id": "dF7v1tvKOVds",
        "outputId": "6a2c3459-5496-4301-f384-87715541aa11"
      },
      "execution_count": null,
      "outputs": [
        {
          "output_type": "stream",
          "name": "stdout",
          "text": [
            "Enter a number between 1 and 7: 5\n",
            "Thursday\n"
          ]
        }
      ]
    },
    {
      "cell_type": "code",
      "source": [
        "# Question: Create a Python program that checks if a given year is a leap year using both if-else and a function\n",
        "\n",
        "# Function to check for leap year\n",
        "def is_leap_year(year):\n",
        "  if (year % 4 == 0 and year % 100 != 0) or year % 400 == 0:\n",
        "    return True\n",
        "  else:\n",
        "    return False\n",
        "\n",
        "# Get input from the user\n",
        "year = int(input(\"Enter a year: \"))\n",
        "\n",
        "# Check using if-else\n",
        "if (year % 4 == 0 and year % 100 != 0) or year % 400 == 0:\n",
        "  print(year, \"is a leap year.\")\n",
        "else:\n",
        "  print(year, \"is not a leap year.\")\n",
        "\n",
        "# Check using the function\n",
        "if is_leap_year(year):\n",
        "  print(year, \"is a leap year (using function).\")\n",
        "else:\n",
        "  print(year, \"is not a leap year (using function).\")\n"
      ],
      "metadata": {
        "colab": {
          "base_uri": "https://localhost:8080/"
        },
        "id": "BMVS66PtOVTb",
        "outputId": "4c37312e-f1a8-46ae-f6f5-87c919250784"
      },
      "execution_count": null,
      "outputs": [
        {
          "output_type": "stream",
          "name": "stdout",
          "text": [
            "Enter a year: 2016\n",
            "2016 is a leap year.\n",
            "2016 is a leap year (using function).\n"
          ]
        }
      ]
    },
    {
      "cell_type": "code",
      "source": [
        "# Question: How do you use the \"assert\" statement in Python to add debugging checks within if-else blocks?\n",
        "\n",
        "def check_grade(score):\n",
        "  if score > 100 or score < 0:\n",
        "    raise ValueError(\"Score must be between 0 and 100\")\n",
        "\n",
        "  if score >= 90:\n",
        "    grade = 'A'\n",
        "  elif score >= 80:\n",
        "    grade = 'B'\n",
        "  elif score >= 70:\n",
        "    grade = 'C'\n",
        "  elif score >= 60:\n",
        "    grade = 'D'\n",
        "  else:\n",
        "    grade = 'F'\n",
        "\n",
        "  assert grade in ('A', 'B', 'C', 'D', 'F'), \"Invalid grade calculated\"\n",
        "  return grade\n",
        "\n",
        "# Example usage\n",
        "score = 85\n",
        "grade = check_grade(score)\n",
        "print(f\"Score: {score}, Grade: {grade}\")\n"
      ],
      "metadata": {
        "colab": {
          "base_uri": "https://localhost:8080/"
        },
        "id": "k2jjmZuaOVIz",
        "outputId": "c3738b5e-7ded-4c05-b3f8-c1ca2530b9c7"
      },
      "execution_count": null,
      "outputs": [
        {
          "output_type": "stream",
          "name": "stdout",
          "text": [
            "Score: 85, Grade: B\n"
          ]
        }
      ]
    },
    {
      "cell_type": "code",
      "source": [
        "# Question: Create a Python program that determines the eligibility of a person for a senior citizen discount based on age using if-else.\n",
        "\n",
        "# Get the age from the user\n",
        "age = int(input(\"Enter your age: \"))\n",
        "\n",
        "# Check if the person is eligible for the senior citizen discount\n",
        "if age >= 60:\n",
        "  print(\"You are eligible for a senior citizen discount.\")\n",
        "else:\n",
        "  print(\"You are not eligible for a senior citizen discount.\")\n"
      ],
      "metadata": {
        "colab": {
          "base_uri": "https://localhost:8080/"
        },
        "id": "k67XvIk4OU--",
        "outputId": "a3c4961a-d508-4738-b31d-62053ac674b5"
      },
      "execution_count": null,
      "outputs": [
        {
          "output_type": "stream",
          "name": "stdout",
          "text": [
            "Enter your age: 31\n",
            "You are not eligible for a senior citizen discount.\n"
          ]
        }
      ]
    },
    {
      "cell_type": "code",
      "source": [
        "# Question: Write a Python program to categorize a given character as uppercase, lowercase, or neither using if-else.\n",
        "\n",
        "# Get input from the user\n",
        "char = input(\"Enter a character: \")\n",
        "\n",
        "# Check if the character is uppercase, lowercase, or neither\n",
        "if char.isupper():\n",
        "  print(\"The character is uppercase.\")\n",
        "elif char.islower():\n",
        "  print(\"The character is lowercase.\")\n",
        "else:\n",
        "  print(\"The character is neither uppercase nor lowercase.\")\n"
      ],
      "metadata": {
        "colab": {
          "base_uri": "https://localhost:8080/"
        },
        "id": "NCInmytiOU0e",
        "outputId": "d4a9d746-13a9-402b-ad84-b0ac0672f62c"
      },
      "execution_count": null,
      "outputs": [
        {
          "output_type": "stream",
          "name": "stdout",
          "text": [
            "Enter a character: dfjkdfsAjjkkj\n",
            "The character is neither uppercase nor lowercase.\n"
          ]
        }
      ]
    },
    {
      "cell_type": "code",
      "source": [
        "# Question: Write a Python program to determine the roots of a quadratic equation using if-else.\n",
        "\n",
        "# Get the coefficients from the user\n",
        "a = float(input(\"Enter the coefficient a: \"))\n",
        "b = float(input(\"Enter the coefficient b: \"))\n",
        "c = float(input(\"Enter the coefficient c: \"))\n",
        "\n",
        "# Calculate the discriminant\n",
        "discriminant = b**2 - 4*a*c\n",
        "\n",
        "# Check the nature of roots and calculate them\n",
        "if discriminant > 0:\n",
        "  root1 = (-b + discriminant**0.5) / (2*a)\n",
        "  root2 = (-b - discriminant**0.5) / (2*a)\n",
        "  print(\"The roots are real and distinct:\")\n",
        "  print(\"Root 1:\", root1)\n",
        "  print(\"Root 2:\", root2)\n",
        "elif discriminant == 0:\n",
        "  root = -b / (2*a)\n",
        "  print(\"The roots are real and equal:\")\n",
        "  print(\"Root:\", root)\n",
        "else:\n",
        "  print(\"The roots are complex and imaginary.\")\n"
      ],
      "metadata": {
        "colab": {
          "base_uri": "https://localhost:8080/"
        },
        "id": "N0ANBycmOUqC",
        "outputId": "719ff247-d3ab-48e8-86d9-98a8620557ae"
      },
      "execution_count": null,
      "outputs": [
        {
          "output_type": "stream",
          "name": "stdout",
          "text": [
            "Enter the coefficient a: 0.4\n",
            "Enter the coefficient b: 0.3\n",
            "Enter the coefficient c: 0.3\n",
            "The roots are complex and imaginary.\n"
          ]
        }
      ]
    },
    {
      "cell_type": "code",
      "source": [
        "# Question: Create a Python program that checks if a given year is a century year or not using if-else.\n",
        "\n",
        "# Get input from the user\n",
        "year = int(input(\"Enter a year: \"))\n",
        "\n",
        "# Check if it's a century year\n",
        "if year % 100 == 0:\n",
        "  print(year, \"is a century year.\")\n",
        "else:\n",
        "  print(year, \"is not a century year.\")\n"
      ],
      "metadata": {
        "colab": {
          "base_uri": "https://localhost:8080/"
        },
        "id": "SjKxL_-DOUfa",
        "outputId": "8e989c36-0ca5-408a-a445-ce664d0f28fc"
      },
      "execution_count": null,
      "outputs": [
        {
          "output_type": "stream",
          "name": "stdout",
          "text": [
            "Enter a year: 2000\n",
            "2000 is a century year.\n"
          ]
        }
      ]
    },
    {
      "cell_type": "code",
      "source": [
        "# Question: Write a Python program to determine if a given number is a perfect square using if-else.\n",
        "\n",
        "# Get input from the user\n",
        "num = int(input(\"Enter a number: \"))\n",
        "\n",
        "# Check if the number is a perfect square\n",
        "if num >= 0:\n",
        "  sqrt = int(num ** 0.5)\n",
        "  if sqrt * sqrt == num:\n",
        "    print(num, \"is a perfect square.\")\n",
        "  else:\n",
        "    print(num, \"is not a perfect square.\")\n",
        "else:\n",
        "  print(\"Invalid input. Please enter a non-negative number.\")\n"
      ],
      "metadata": {
        "colab": {
          "base_uri": "https://localhost:8080/"
        },
        "id": "sUH42xndOUVV",
        "outputId": "0edb4e4d-beed-4ea9-99a3-e4823742b2cf"
      },
      "execution_count": null,
      "outputs": [
        {
          "output_type": "stream",
          "name": "stdout",
          "text": [
            "Enter a number: 2020\n",
            "2020 is not a perfect square.\n"
          ]
        }
      ]
    },
    {
      "cell_type": "code",
      "source": [
        "# Question: Explain the purpose of the \"continue\" and \"break\" statements within if-else loops.\n",
        "\n",
        "# **continue**\n",
        "\n",
        "# Purpose: The `continue` statement is used to skip the rest of the current iteration of a loop (for or while) and move on to the next iteration.\n",
        "\n",
        "# Example:\n",
        "for i in range(1, 6):\n",
        "  if i == 3:\n",
        "    continue  # Skip printing 3\n",
        "  print(i)\n",
        "\n",
        "# **break**\n",
        "\n",
        "# Purpose: The `break` statement is used to terminate a loop (for or while) prematurely.\n",
        "\n",
        "# Example:\n",
        "for i in range(1, 6):\n",
        "  if i == 3:\n",
        "    break  # Exit the loop when i is 3\n",
        "  print(i)\n"
      ],
      "metadata": {
        "colab": {
          "base_uri": "https://localhost:8080/"
        },
        "id": "cJ1-AXAyOUL7",
        "outputId": "eb3fe5d0-ffcb-4500-abb6-d58d85ab48d7"
      },
      "execution_count": null,
      "outputs": [
        {
          "output_type": "stream",
          "name": "stdout",
          "text": [
            "1\n",
            "2\n",
            "4\n",
            "5\n",
            "1\n",
            "2\n"
          ]
        }
      ]
    },
    {
      "cell_type": "code",
      "source": [
        "# Question: Create a Python program that calculates the BMI (Body Mass Index) of a person based on their weight and height using if-else.\n",
        "\n",
        "# Get weight and height from the user\n",
        "weight = float(input(\"Enter your weight in kilograms: \"))\n",
        "height = float(input(\"Enter your height in meters: \"))\n",
        "\n",
        "# Calculate BMI\n",
        "bmi = weight / (height ** 2)\n",
        "\n",
        "# Check BMI categories and print the result\n",
        "if bmi < 18.5:\n",
        "  print(\"Your BMI is\", bmi, \"which means you are underweight.\")\n",
        "elif bmi >= 18.5 and bmi < 25:\n",
        "  print(\"Your BMI is\", bmi, \"which means you have a normal weight.\")\n",
        "elif bmi >= 25 and bmi < 30:\n",
        "  print(\"Your BMI is\", bmi, \"which means you are overweight.\")\n",
        "else:\n",
        "  print(\"Your BMI is\", bmi, \"which means you are obese.\")\n"
      ],
      "metadata": {
        "colab": {
          "base_uri": "https://localhost:8080/"
        },
        "id": "c6uNZbsfOUCR",
        "outputId": "d0632d96-ea9b-4f33-8679-29f5f71fb2f0"
      },
      "execution_count": null,
      "outputs": [
        {
          "output_type": "stream",
          "name": "stdout",
          "text": [
            "Enter your weight in kilograms: 100.5\n",
            "Enter your height in meters: 186\n",
            "Your BMI is 0.002904960110995491 which means you are underweight.\n"
          ]
        }
      ]
    },
    {
      "cell_type": "code",
      "source": [
        "# Question: How can you use the \"filter()\" function with if-else statements to filter elements from a list?\n",
        "\n",
        "# Define a list of numbers\n",
        "numbers = [1, 2, 3, 4, 5, 6, 7, 8, 9, 10]\n",
        "\n",
        "# Define a function that returns True if a number is even, False otherwise\n",
        "def is_even(number):\n",
        "  if number % 2 == 0:\n",
        "    return True\n",
        "  else:\n",
        "    return False\n",
        "\n",
        "# Use the filter function with the is_even function to filter even numbers\n",
        "even_numbers = list(filter(is_even, numbers))\n",
        "\n",
        "# Print the even numbers\n",
        "print(even_numbers)\n"
      ],
      "metadata": {
        "colab": {
          "base_uri": "https://localhost:8080/"
        },
        "id": "oZAz4Ai8OT3x",
        "outputId": "87c6ac14-836e-4c8e-eeda-9073d48a880c"
      },
      "execution_count": null,
      "outputs": [
        {
          "output_type": "stream",
          "name": "stdout",
          "text": [
            "[2, 4, 6, 8, 10]\n"
          ]
        }
      ]
    },
    {
      "cell_type": "code",
      "source": [
        "# Question: Write a Python program to determine if a given number is prime or not using if-else.\n",
        "\n",
        "# Get input from the user\n",
        "num = int(input(\"Enter a number: \"))\n",
        "\n",
        "# Check if the number is less than 2\n",
        "if num < 2:\n",
        "  is_prime = False\n",
        "else:\n",
        "  # Assume the number is prime initially\n",
        "  is_prime = True\n",
        "\n",
        "  # Check for divisibility from 2 to the square root of the number\n",
        "  for i in range(2, int(num**0.5) + 1):\n",
        "    if num % i == 0:\n",
        "      is_prime = False\n",
        "      break\n",
        "\n",
        "# Print the result\n",
        "if is_prime:\n",
        "  print(num, \"is a prime number.\")\n",
        "else:\n",
        "  print(num, \"is not a prime number.\")\n"
      ],
      "metadata": {
        "colab": {
          "base_uri": "https://localhost:8080/"
        },
        "id": "FIKPZAEuOTt6",
        "outputId": "08ac2142-a83d-4cb7-b38b-f114ced07c8c"
      },
      "execution_count": null,
      "outputs": [
        {
          "output_type": "stream",
          "name": "stdout",
          "text": [
            "Enter a number: 47\n",
            "47 is a prime number.\n"
          ]
        }
      ]
    },
    {
      "cell_type": "markdown",
      "source": [
        "# **Map**"
      ],
      "metadata": {
        "id": "KZ4ElfrVPncx"
      }
    },
    {
      "cell_type": "code",
      "source": [
        "# Question: Explain the purpose of the `map()` function in Python and provide an example of how it can be used to apply a function to each element of an iterable.\n",
        "\n",
        "# **Map**\n",
        "\n",
        "# Purpose: The `map()` function applies a given function to each item of an iterable (list, tuple, etc.) and returns an iterator containing the results.\n",
        "\n",
        "# Example: Calculate the square of each number in a list\n",
        "\n",
        "# Define a function to calculate the square\n",
        "def square(x):\n",
        "  return x * x\n",
        "\n",
        "# Create a list of numbers\n",
        "numbers = [1, 2, 3, 4, 5]\n",
        "\n",
        "# Use map to apply the square function to each number\n",
        "squared_numbers = map(square, numbers)\n",
        "\n",
        "# Convert the iterator to a list and print\n",
        "print(list(squared_numbers))  # Output: [1, 4, 9, 16, 25]\n"
      ],
      "metadata": {
        "colab": {
          "base_uri": "https://localhost:8080/"
        },
        "id": "8GIzGtU-Pr3a",
        "outputId": "e5dd0b4b-ab5c-4a96-ae66-39ae73199f9c"
      },
      "execution_count": null,
      "outputs": [
        {
          "output_type": "stream",
          "name": "stdout",
          "text": [
            "[1, 4, 9, 16, 25]\n"
          ]
        }
      ]
    },
    {
      "cell_type": "code",
      "source": [
        "# Question: Write a Python program that uses the `map()` function to square each element of a list of numbers.\n",
        "\n",
        "# Define a function to calculate the square\n",
        "def square(x):\n",
        "  return x * x\n",
        "\n",
        "# Create a list of numbers\n",
        "numbers = [1, 2, 3, 4, 5]\n",
        "\n",
        "# Use map to apply the square function to each number\n",
        "squared_numbers = map(square, numbers)\n",
        "\n",
        "# Convert the iterator to a list and print\n",
        "print(list(squared_numbers))\n"
      ],
      "metadata": {
        "colab": {
          "base_uri": "https://localhost:8080/"
        },
        "id": "LDPbZRfwP7cx",
        "outputId": "d02b6346-b836-4778-bfaa-b17a3e3f0d0f"
      },
      "execution_count": null,
      "outputs": [
        {
          "output_type": "stream",
          "name": "stdout",
          "text": [
            "[1, 4, 9, 16, 25]\n"
          ]
        }
      ]
    },
    {
      "cell_type": "code",
      "source": [
        "# Question: How does the `map()` function differ from a list comprehension in Python, and when would you choose one over the other?\n",
        "\n",
        "# List comprehensions are generally more concise and readable for simple operations.\n",
        "# Map is more efficient for complex operations or when using functions from other modules.\n",
        "\n",
        "# List comprehension for squaring numbers\n",
        "numbers = [1, 2, 3, 4, 5]\n",
        "squared_numbers = [x*x for x in numbers]\n",
        "print(squared_numbers)\n",
        "\n",
        "# Map for squaring numbers using a lambda function\n",
        "numbers = [1, 2, 3, 4, 5]\n",
        "squared_numbers = list(map(lambda x: x*x, numbers))\n",
        "print(squared_numbers)\n"
      ],
      "metadata": {
        "colab": {
          "base_uri": "https://localhost:8080/"
        },
        "id": "WpsxJW3fP7Rp",
        "outputId": "31edd8ae-d6b1-488e-cb28-7f8c73ace448"
      },
      "execution_count": null,
      "outputs": [
        {
          "output_type": "stream",
          "name": "stdout",
          "text": [
            "[1, 4, 9, 16, 25]\n",
            "[1, 4, 9, 16, 25]\n"
          ]
        }
      ]
    },
    {
      "cell_type": "code",
      "source": [
        "# Question: Create a Python program that uses the `map()` function to convert a list of names to uppercase.\n",
        "\n",
        "# Define a function to convert a string to uppercase\n",
        "def to_uppercase(name):\n",
        "  return name.upper()\n",
        "\n",
        "# Create a list of names\n",
        "names = [\"alice\", \"bob\", \"charlie\"]\n",
        "\n",
        "# Use map to apply the to_uppercase function to each name\n",
        "uppercase_names = map(to_uppercase, names)\n",
        "\n",
        "# Convert the iterator to a list and print\n",
        "print(list(uppercase_names))  # Output: ['ALICE', 'BOB', 'CHARLIE']\n"
      ],
      "metadata": {
        "colab": {
          "base_uri": "https://localhost:8080/"
        },
        "id": "lxfHRvNVP7HX",
        "outputId": "acce2f51-6993-47d8-9cbd-f8dd48aa6c7f"
      },
      "execution_count": null,
      "outputs": [
        {
          "output_type": "stream",
          "name": "stdout",
          "text": [
            "['ALICE', 'BOB', 'CHARLIE']\n"
          ]
        }
      ]
    },
    {
      "cell_type": "code",
      "source": [
        "# Question: Write a Python program that uses the `map()` function to calculate the length of each word in a list of strings.\n",
        "\n",
        "# Define a function to calculate the length of a word\n",
        "def word_length(word):\n",
        "  return len(word)\n",
        "\n",
        "# Create a list of words\n",
        "words = [\"apple\", \"banana\", \"cherry\"]\n",
        "\n",
        "# Use map to apply the word_length function to each word\n",
        "word_lengths = map(word_length, words)\n",
        "\n",
        "# Convert the iterator to a list and print\n",
        "print(list(word_lengths))  # Output: [5, 6, 6]\n"
      ],
      "metadata": {
        "colab": {
          "base_uri": "https://localhost:8080/"
        },
        "id": "uxBW1dJOP69B",
        "outputId": "991441fb-0b03-4fe8-e8f6-2bb05821fd8e"
      },
      "execution_count": null,
      "outputs": [
        {
          "output_type": "stream",
          "name": "stdout",
          "text": [
            "[5, 6, 6]\n"
          ]
        }
      ]
    },
    {
      "cell_type": "code",
      "source": [
        "# Question: How can you use the `map()` function to apply a custom function to elements of multiple lists simultaneously in Python?\n",
        "\n",
        "# Define a custom function to apply to elements\n",
        "def custom_function(x, y):\n",
        "  return x + y\n",
        "\n",
        "# Create two lists\n",
        "list1 = [1, 2, 3]\n",
        "list2 = [4, 5, 6]\n",
        "\n",
        "# Use map with the custom function and multiple lists\n",
        "result = list(map(custom_function, list1, list2))\n",
        "\n",
        "# Print the result\n",
        "print(result)  # Output: [5, 7, 9]\n"
      ],
      "metadata": {
        "colab": {
          "base_uri": "https://localhost:8080/"
        },
        "id": "bjW2v-ZwP6x-",
        "outputId": "a4508b55-576f-4f27-9ebc-4db6ff711316"
      },
      "execution_count": null,
      "outputs": [
        {
          "output_type": "stream",
          "name": "stdout",
          "text": [
            "[5, 7, 9]\n"
          ]
        }
      ]
    },
    {
      "cell_type": "code",
      "source": [
        "# Question: Create a Python program that uses `map()` to convert a list of temperatures from Celsius to Fahrenheit.\n",
        "\n",
        "# Define a function to convert Celsius to Fahrenheit\n",
        "def celsius_to_fahrenheit(celsius):\n",
        "  return (celsius * 9/5) + 32\n",
        "\n",
        "# Create a list of temperatures in Celsius\n",
        "celsius_temps = [0, 10, 20, 30, 40]\n",
        "\n",
        "# Use map to apply the conversion function to each temperature\n",
        "fahrenheit_temps = list(map(celsius_to_fahrenheit, celsius_temps))\n",
        "\n",
        "# Print the temperatures in Fahrenheit\n",
        "print(fahrenheit_temps)\n"
      ],
      "metadata": {
        "colab": {
          "base_uri": "https://localhost:8080/"
        },
        "id": "IMROlrMDP6ma",
        "outputId": "646827d6-59cb-4b3c-8eed-40ec766e0a8d"
      },
      "execution_count": null,
      "outputs": [
        {
          "output_type": "stream",
          "name": "stdout",
          "text": [
            "[32.0, 50.0, 68.0, 86.0, 104.0]\n"
          ]
        }
      ]
    },
    {
      "cell_type": "code",
      "source": [
        "# Question: Write a Python program that uses the `map()` function to round each element of a list of floating-point numbers to the nearest integer.\n",
        "\n",
        "# Define a list of floating-point numbers\n",
        "numbers = [1.2, 3.7, 5.5, 8.9, 2.4]\n",
        "\n",
        "# Use map with the round function to round each number\n",
        "rounded_numbers = list(map(round, numbers))\n",
        "\n",
        "# Print the rounded numbers\n",
        "print(rounded_numbers)\n"
      ],
      "metadata": {
        "colab": {
          "base_uri": "https://localhost:8080/"
        },
        "id": "QMCONFDzP6Sj",
        "outputId": "e12ce32b-ddce-4d77-f785-4c2768b5214b"
      },
      "execution_count": null,
      "outputs": [
        {
          "output_type": "stream",
          "name": "stdout",
          "text": [
            "[1, 4, 6, 9, 2]\n"
          ]
        }
      ]
    },
    {
      "cell_type": "code",
      "source": [],
      "metadata": {
        "id": "LeqWLmbyS6tm"
      },
      "execution_count": null,
      "outputs": []
    },
    {
      "cell_type": "markdown",
      "source": [
        "# **Reduce**"
      ],
      "metadata": {
        "id": "JNYBf_a_TEAH"
      }
    },
    {
      "cell_type": "code",
      "source": [
        "# Question: What is the `reduce()` function in Python, and what module should you import to use it? Provide an example of its basic usage\n",
        "\n",
        "from functools import reduce\n",
        "\n",
        "# The `reduce()` function applies a function of two arguments cumulatively to the items of an iterable, from left to right,\n",
        "# so as to reduce the iterable to a single value.\n",
        "\n",
        "# Example: Calculate the product of all numbers in a list\n",
        "def multiply(x, y):\n",
        "  return x * y\n",
        "\n",
        "numbers = [1, 2, 3, 4, 5]\n",
        "product = reduce(multiply, numbers)\n",
        "print(product)  # Output: 120\n"
      ],
      "metadata": {
        "colab": {
          "base_uri": "https://localhost:8080/"
        },
        "id": "Bg7UZ3EoTLHZ",
        "outputId": "5fb3770d-f6c6-403b-8280-bb3ec03247d6"
      },
      "execution_count": null,
      "outputs": [
        {
          "output_type": "stream",
          "name": "stdout",
          "text": [
            "120\n"
          ]
        }
      ]
    },
    {
      "cell_type": "code",
      "source": [
        "# Question: Write a Python program that uses the `reduce()` function to find the product of all elements in a list.\n",
        "\n",
        "from functools import reduce\n",
        "\n",
        "def multiply(x, y):\n",
        "  return x * y\n",
        "\n",
        "numbers = [1, 2, 3, 4, 5]\n",
        "product = reduce(multiply, numbers)\n",
        "print(product)  # Output: 120\n"
      ],
      "metadata": {
        "colab": {
          "base_uri": "https://localhost:8080/"
        },
        "id": "g1Qfi-PpTOAo",
        "outputId": "43895a5b-a6a5-4cbe-e257-878795c4d461"
      },
      "execution_count": null,
      "outputs": [
        {
          "output_type": "stream",
          "name": "stdout",
          "text": [
            "120\n"
          ]
        }
      ]
    },
    {
      "cell_type": "code",
      "source": [
        "# Question: Create a Python program that uses `reduce()` to find the maximum element in a list of numbers.\n",
        "\n",
        "from functools import reduce\n",
        "\n",
        "def find_max(x, y):\n",
        "  return x if x > y else y\n",
        "\n",
        "numbers = [10, 5, 23, 8, 42, 15]\n",
        "maximum = reduce(find_max, numbers)\n",
        "print(maximum)  # Output: 42\n"
      ],
      "metadata": {
        "colab": {
          "base_uri": "https://localhost:8080/"
        },
        "id": "cLxmbflUTN0L",
        "outputId": "b5c834b3-4a66-4823-806e-e85ce62c4e77"
      },
      "execution_count": null,
      "outputs": [
        {
          "output_type": "stream",
          "name": "stdout",
          "text": [
            "42\n"
          ]
        }
      ]
    },
    {
      "cell_type": "code",
      "source": [
        "# Question: How can you use the `reduce()` function to concatenate a list of strings into a single string?\n",
        "\n",
        "from functools import reduce\n",
        "\n",
        "def concat_strings(x, y):\n",
        "  return x + y\n",
        "\n",
        "strings = [\"Hello\", \", \", \"world\", \"!\"]\n",
        "result = reduce(concat_strings, strings)\n",
        "print(result)  # Output: Hello, world!\n"
      ],
      "metadata": {
        "colab": {
          "base_uri": "https://localhost:8080/"
        },
        "id": "ys16zQC6TNnN",
        "outputId": "3c7f3285-343b-4124-f4c7-1a32c993bdda"
      },
      "execution_count": null,
      "outputs": [
        {
          "output_type": "stream",
          "name": "stdout",
          "text": [
            "Hello, world!\n"
          ]
        }
      ]
    },
    {
      "cell_type": "code",
      "source": [
        "# Question: Write a Python program that calculates the factorial of a number using the `reduce()` function.\n",
        "\n",
        "from functools import reduce\n",
        "\n",
        "def factorial(n):\n",
        "  if n == 0:\n",
        "    return 1\n",
        "  else:\n",
        "    return reduce(lambda x, y: x * y, range(1, n + 1))\n",
        "\n",
        "# Get input from the user\n",
        "num = int(input(\"Enter a number: \"))\n",
        "\n",
        "# Calculate the factorial\n",
        "result = factorial(num)\n",
        "\n",
        "# Print the result\n",
        "print(\"The factorial of\", num, \"is\", result)\n"
      ],
      "metadata": {
        "colab": {
          "base_uri": "https://localhost:8080/"
        },
        "id": "amGkJDBtTNXa",
        "outputId": "06c1fa00-6c60-4d13-9d45-8bd12695d9f4"
      },
      "execution_count": null,
      "outputs": [
        {
          "output_type": "stream",
          "name": "stdout",
          "text": [
            "Enter a number: 12\n",
            "The factorial of 12 is 479001600\n"
          ]
        }
      ]
    },
    {
      "cell_type": "code",
      "source": [
        "# Question: Create a Python program that uses `reduce()` to find the GCD (Greatest Common Divisor) of a list of numbers.\n",
        "\n",
        "from functools import reduce\n",
        "\n",
        "def gcd(a, b):\n",
        "  while b:\n",
        "    a, b = b, a % b\n",
        "  return a\n",
        "\n",
        "# Get input from the user\n",
        "numbers = [int(x) for x in input(\"Enter a list of numbers separated by spaces: \").split()]\n",
        "\n",
        "# Calculate the GCD using reduce\n",
        "result = reduce(gcd, numbers)\n",
        "\n",
        "# Print the result\n",
        "print(\"The GCD of the numbers is:\", result)\n"
      ],
      "metadata": {
        "colab": {
          "base_uri": "https://localhost:8080/"
        },
        "id": "Z9_QWm0FTPQW",
        "outputId": "725d7438-0058-448c-eaab-a415b748b518"
      },
      "execution_count": null,
      "outputs": [
        {
          "output_type": "stream",
          "name": "stdout",
          "text": [
            "Enter a list of numbers separated by spaces: 15 16 25 27\n",
            "The GCD of the numbers is: 1\n"
          ]
        }
      ]
    },
    {
      "cell_type": "code",
      "source": [
        "# Question: Write a Python program that uses the `reduce()` function to find the sum of the digits of a given number.\n",
        "\n",
        "from functools import reduce\n",
        "\n",
        "def sum_digits(number):\n",
        "  digits = [int(d) for d in str(number)]\n",
        "  return reduce(lambda x, y: x + y, digits)\n",
        "\n",
        "# Get input from the user\n",
        "num = int(input(\"Enter a number: \"))\n",
        "\n",
        "# Calculate the sum of digits\n",
        "result = sum_digits(num)\n",
        "\n",
        "# Print the result\n",
        "print(\"The sum of digits is:\", result)\n"
      ],
      "metadata": {
        "colab": {
          "base_uri": "https://localhost:8080/"
        },
        "id": "vXwuaM2RTPCk",
        "outputId": "f1962a1e-fd80-42be-8679-12e14c983672"
      },
      "execution_count": null,
      "outputs": [
        {
          "output_type": "stream",
          "name": "stdout",
          "text": [
            "Enter a number: 245661\n",
            "The sum of digits is: 24\n"
          ]
        }
      ]
    },
    {
      "cell_type": "markdown",
      "source": [
        "# **Filter**"
      ],
      "metadata": {
        "id": "-05MI6TMTk9E"
      }
    },
    {
      "cell_type": "code",
      "source": [
        "# Question: Explain the purpose of the `filter()` function in Python and provide an example of how it can be used to filter elements from an iterable.\n",
        "\n",
        "# **Filter**\n",
        "\n",
        "# Purpose: The `filter()` function constructs an iterator from elements of an iterable for which a function returns true.\n",
        "# In other words, it filters the given iterable based on the condition specified by the function.\n",
        "\n",
        "# Example: Filter even numbers from a list\n",
        "\n",
        "# Define a list of numbers\n",
        "numbers = [1, 2, 3, 4, 5, 6, 7, 8, 9, 10]\n",
        "\n",
        "# Define a function that returns True if a number is even, False otherwise\n",
        "def is_even(number):\n",
        "  if number % 2 == 0:\n",
        "    return True\n",
        "  else:\n",
        "    return False\n",
        "\n",
        "# Use the filter function with the is_even function to filter even numbers\n",
        "even_numbers = list(filter(is_even, numbers))\n",
        "\n",
        "# Print the even numbers\n",
        "print(even_numbers)  # Output: [2, 4, 6, 8, 10]\n"
      ],
      "metadata": {
        "colab": {
          "base_uri": "https://localhost:8080/"
        },
        "id": "bV3tPAO2Toca",
        "outputId": "1bf9d99d-6e1e-411a-e3c4-7baeb2f81312"
      },
      "execution_count": null,
      "outputs": [
        {
          "output_type": "stream",
          "name": "stdout",
          "text": [
            "[2, 4, 6, 8, 10]\n"
          ]
        }
      ]
    },
    {
      "cell_type": "code",
      "source": [
        "# Question: Write a Python program that uses the `filter()` function to select even numbers from a list of integers.\n",
        "\n",
        "# Define a list of numbers\n",
        "numbers = [1, 2, 3, 4, 5, 6, 7, 8, 9, 10]\n",
        "\n",
        "# Define a function that returns True if a number is even, False otherwise\n",
        "def is_even(number):\n",
        "  if number % 2 == 0:\n",
        "    return True\n",
        "  else:\n",
        "    return False\n",
        "\n",
        "# Use the filter function with the is_even function to filter even numbers\n",
        "even_numbers = list(filter(is_even, numbers))\n",
        "\n",
        "# Print the even numbers\n",
        "print(even_numbers)\n"
      ],
      "metadata": {
        "colab": {
          "base_uri": "https://localhost:8080/"
        },
        "id": "lRQOXgDsTzhf",
        "outputId": "9882e3e1-accc-450e-f40f-e049f5830224"
      },
      "execution_count": null,
      "outputs": [
        {
          "output_type": "stream",
          "name": "stdout",
          "text": [
            "[2, 4, 6, 8, 10]\n"
          ]
        }
      ]
    },
    {
      "cell_type": "code",
      "source": [
        "# Question: Create a Python program that uses the `filter()` function to select names that start with a specific letter from a list of strings.\n",
        "\n",
        "def starts_with_letter(name, letter):\n",
        "  return name.startswith(letter)\n",
        "\n",
        "names = [\"Alice\", \"Bob\", \"Charlie\", \"David\", \"Eve\"]\n",
        "letter = \"A\"\n",
        "\n",
        "filtered_names = list(filter(lambda name: starts_with_letter(name, letter), names))\n",
        "\n",
        "print(filtered_names)\n"
      ],
      "metadata": {
        "colab": {
          "base_uri": "https://localhost:8080/"
        },
        "id": "c9bCZji3TzW5",
        "outputId": "3921e94f-6675-4575-c59c-90b093613507"
      },
      "execution_count": null,
      "outputs": [
        {
          "output_type": "stream",
          "name": "stdout",
          "text": [
            "['Alice']\n"
          ]
        }
      ]
    },
    {
      "cell_type": "code",
      "source": [
        "# Question: Write a Python program that uses the `filter()` function to select prime numbers from a list of integers.\n",
        "\n",
        "def is_prime(n):\n",
        "  if n <= 1:\n",
        "    return False\n",
        "  if n <= 3:\n",
        "    return True\n",
        "  if n % 2 == 0 or n % 3 == 0:\n",
        "    return False\n",
        "  i = 5\n",
        "  while i * i <= n:\n",
        "    if n % i == 0 or n % (i + 2) == 0:\n",
        "      return False\n",
        "    i += 6\n",
        "  return True\n",
        "\n",
        "numbers = [2, 3, 4, 5, 6, 7, 8, 9, 10, 11]\n",
        "prime_numbers = list(filter(is_prime, numbers))\n",
        "print(prime_numbers)\n"
      ],
      "metadata": {
        "colab": {
          "base_uri": "https://localhost:8080/"
        },
        "id": "3M-14A0vTzM3",
        "outputId": "cc56dce2-6f7d-4c52-e748-ca56bd6e308a"
      },
      "execution_count": null,
      "outputs": [
        {
          "output_type": "stream",
          "name": "stdout",
          "text": [
            "[2, 3, 5, 7, 11]\n"
          ]
        }
      ]
    },
    {
      "cell_type": "code",
      "source": [
        "# Question: How can you use the `filter()` function to remove None values from a list in Python?\n",
        "\n",
        "# Define a list with None values\n",
        "data = [1, 2, None, 4, None, 5]\n",
        "\n",
        "# Use filter to remove None values\n",
        "filtered_data = list(filter(None, data))\n",
        "\n",
        "# Print the filtered list\n",
        "print(filtered_data)\n"
      ],
      "metadata": {
        "colab": {
          "base_uri": "https://localhost:8080/"
        },
        "id": "4wpRZ6plTzCn",
        "outputId": "a8d8fbf5-85b6-4dd4-e250-a6497a4a9e9d"
      },
      "execution_count": null,
      "outputs": [
        {
          "output_type": "stream",
          "name": "stdout",
          "text": [
            "[1, 2, 4, 5]\n"
          ]
        }
      ]
    },
    {
      "cell_type": "code",
      "source": [
        "# Question: Create a Python program that uses `filter()` to select words longer than a certain length from a list of strings\n",
        "\n",
        "def filter_long_words(words, n):\n",
        "  return list(filter(lambda word: len(word) > n, words))\n",
        "\n",
        "words = [\"apple\", \"banana\", \"cherry\", \"date\", \"elderberry\"]\n",
        "n = 5\n",
        "long_words = filter_long_words(words, n)\n",
        "print(long_words)\n"
      ],
      "metadata": {
        "colab": {
          "base_uri": "https://localhost:8080/"
        },
        "id": "hvNED_VOTy3_",
        "outputId": "b2f613ac-356f-41e6-f5e8-af4adfd2ad88"
      },
      "execution_count": null,
      "outputs": [
        {
          "output_type": "stream",
          "name": "stdout",
          "text": [
            "['banana', 'cherry', 'elderberry']\n"
          ]
        }
      ]
    },
    {
      "cell_type": "code",
      "source": [
        "# Question: Write a Python program that uses the `filter()` function to select elements greater than a specified threshold from a list of values.\n",
        "\n",
        "def greater_than_threshold(value, threshold):\n",
        "  return value > threshold\n",
        "\n",
        "# Example usage\n",
        "values = [10, 25, 5, 30, 15, 40]\n",
        "threshold = 20\n",
        "\n",
        "filtered_values = list(filter(lambda x: greater_than_threshold(x, threshold), values))\n",
        "print(f\"Values greater than {threshold}: {filtered_values}\")\n"
      ],
      "metadata": {
        "colab": {
          "base_uri": "https://localhost:8080/"
        },
        "id": "7c79jlFgTyvH",
        "outputId": "114c4e61-98ef-4324-d633-02f6b30e02e7"
      },
      "execution_count": null,
      "outputs": [
        {
          "output_type": "stream",
          "name": "stdout",
          "text": [
            "Values greater than 20: [25, 30, 40]\n"
          ]
        }
      ]
    },
    {
      "cell_type": "markdown",
      "source": [
        "# **Recursion**"
      ],
      "metadata": {
        "id": "noIA5dnnUIly"
      }
    },
    {
      "cell_type": "code",
      "source": [
        "# Question: Explain the concept of recursion in Python. How does it differ from iteration?\n",
        "\n",
        "# Recursion\n",
        "\n",
        "# Recursion is a programming technique where a function calls itself within its own definition.\n",
        "# It's a powerful way to solve problems that can be broken down into smaller, self-similar subproblems.\n",
        "\n",
        "# Example: Calculate the factorial of a number\n",
        "\n",
        "def factorial(n):\n",
        "  if n == 0:\n",
        "    return 1\n",
        "  else:\n",
        "    return n * factorial(n-1)\n",
        "\n",
        "# In this example, the factorial function calls itself with a smaller value of n until it reaches the base case (n == 0).\n",
        "\n",
        "# How recursion differs from iteration:\n",
        "\n",
        "# Iteration: Uses loops (for, while) to repeat a block of code.\n",
        "# Recursion: Uses function calls to repeat a block of code.\n",
        "\n",
        "# Key differences:\n",
        "\n",
        "# * Iteration is generally more efficient in terms of memory usage and execution speed for simple problems.\n",
        "# * Recursion can be more elegant and easier to understand for problems that have a recursive structure.\n",
        "\n",
        "# When to use recursion:\n",
        "\n",
        "# * Problems that can be broken down into smaller, self-similar subproblems.\n",
        "# * Problems where the iterative solution is complex or difficult to implement.\n",
        "\n",
        "# When to avoid recursion:\n",
        "\n",
        "# * Problems where the recursion depth can become very large, leading to stack overflow errors.\n",
        "# * Problems where an iterative solution is more efficient.\n"
      ],
      "metadata": {
        "id": "vMI7mWcPUL9o"
      },
      "execution_count": null,
      "outputs": []
    },
    {
      "cell_type": "code",
      "source": [
        "# Question: Write a Python program to calculate the factorial of a number using recursion.\n",
        "\n",
        "def factorial(n):\n",
        "  if n == 0:\n",
        "    return 1\n",
        "  else:\n",
        "    return n * factorial(n - 1)\n",
        "\n",
        "# Get input from the user\n",
        "num = int(input(\"Enter a non-negative integer: \"))\n",
        "\n",
        "# Check if the input is valid\n",
        "if num < 0:\n",
        "  print(\"Factorial is not defined for negative numbers.\")\n",
        "else:\n",
        "  # Calculate the factorial\n",
        "  result = factorial(num)\n",
        "\n",
        "  # Print the result\n",
        "  print(\"The factorial of\", num, \"is\", result)\n"
      ],
      "metadata": {
        "colab": {
          "base_uri": "https://localhost:8080/"
        },
        "id": "Ax9BG6F5UQUp",
        "outputId": "6b40176e-35fb-43c2-f54e-ff90d5eb8a5b"
      },
      "execution_count": null,
      "outputs": [
        {
          "output_type": "stream",
          "name": "stdout",
          "text": [
            "Enter a non-negative integer: 45\n",
            "The factorial of 45 is 119622220865480194561963161495657715064383733760000000000\n"
          ]
        }
      ]
    },
    {
      "cell_type": "code",
      "source": [
        "# Question: Create a recursive Python function to find the nth Fibonacci number.\n",
        "\n",
        "def fibonacci(n):\n",
        "  if n <= 0:\n",
        "    return 0\n",
        "  elif n == 1:\n",
        "    return 1\n",
        "  else:\n",
        "    return fibonacci(n-1) + fibonacci(n-2)\n"
      ],
      "metadata": {
        "id": "t7VSrM-PUQKB"
      },
      "execution_count": null,
      "outputs": []
    },
    {
      "cell_type": "code",
      "source": [
        "# Question: Write a recursive Python function to calculate the sum of all elements in a list.\n",
        "\n",
        "def sum_list(lst):\n",
        "  if not lst:\n",
        "    return 0\n",
        "  else:\n",
        "    return lst[0] + sum_list(lst[1:])\n"
      ],
      "metadata": {
        "id": "3e74o5zbUP_U"
      },
      "execution_count": null,
      "outputs": []
    },
    {
      "cell_type": "code",
      "source": [
        "# Question: How can you prevent a recursive function from running indefinitely, causing a stack overflow error?\n",
        "\n",
        "# 1. Base Case:\n",
        "#   - Ensure your function has a well-defined base case that stops the recursion.\n",
        "#   - This is the condition where the function does not call itself again.\n",
        "\n",
        "# Example:\n",
        "def countdown(n):\n",
        "  if n <= 0:  # Base case\n",
        "    print(\"Blastoff!\")\n",
        "  else:\n",
        "    print(n)\n",
        "    countdown(n-1)\n",
        "\n",
        "# 2. Progress Towards Base Case:\n",
        "#   - Each recursive call should make progress towards the base case.\n",
        "#   - The input to the recursive call should be modified in a way that eventually leads to the base case being met.\n",
        "\n",
        "# 3. Input Validation:\n",
        "#   - Validate the input to prevent invalid values from causing infinite recursion.\n",
        "\n",
        "# Example:\n",
        "def factorial(n):\n",
        "  if n < 0:\n",
        "    return \"Factorial not defined for negative numbers\"\n",
        "  elif n == 0:\n",
        "    return 1\n",
        "  else:\n",
        "    return n * factorial(n-1)\n",
        "\n",
        "# 4. Limit Recursion Depth (If Necessary):\n",
        "#   - For very deep recursion, consider setting a maximum recursion depth to prevent stack overflow.\n",
        "#   - Python has a built-in limit, but you can adjust it with `sys.setrecursionlimit()`. However, use this cautiously.\n",
        "\n",
        "# Example (use with caution):\n",
        "import sys\n",
        "sys.setrecursionlimit(1000)\n"
      ],
      "metadata": {
        "id": "M7zGOTpSUP1U"
      },
      "execution_count": null,
      "outputs": []
    },
    {
      "cell_type": "code",
      "source": [
        "# Question: Create a recursive Python function to find the greatest common divisor (GCD) of two numbers using the Euclidean algorithm.\n",
        "\n",
        "def gcd(a, b):\n",
        "  if b == 0:\n",
        "    return a\n",
        "  else:\n",
        "    return gcd(b, a % b)\n"
      ],
      "metadata": {
        "id": "qtZ6FxRnUPr6"
      },
      "execution_count": null,
      "outputs": []
    },
    {
      "cell_type": "code",
      "source": [
        "# Question: Write a recursive Python function to reverse a string.\n",
        "\n",
        "def reverse_string(s):\n",
        "  if len(s) == 0:\n",
        "    return s\n",
        "  else:\n",
        "    return reverse_string(s[1:]) + s[0]\n"
      ],
      "metadata": {
        "id": "YTork4ErUPh_"
      },
      "execution_count": null,
      "outputs": []
    },
    {
      "cell_type": "code",
      "source": [
        "# Question: Create a recursive Python function to calculate the power of a number (x^n).\n",
        "\n",
        "def power(x, n):\n",
        "  if n == 0:\n",
        "    return 1\n",
        "  elif n < 0:\n",
        "    return 1 / power(x, -n)\n",
        "  else:\n",
        "    return x * power(x, n-1)\n"
      ],
      "metadata": {
        "id": "-J2grZ2IUPYH"
      },
      "execution_count": null,
      "outputs": []
    },
    {
      "cell_type": "code",
      "source": [
        "# Question: Write a recursive Python function to check if a string is a palindrome.\n",
        "\n",
        "def is_palindrome(s):\n",
        "  s = s.lower()  # Case-insensitive check\n",
        "  if len(s) <= 1:\n",
        "    return True\n",
        "  elif s[0] != s[-1]:\n",
        "    return False\n",
        "  else:\n",
        "    return is_palindrome(s[1:-1])\n"
      ],
      "metadata": {
        "id": "BzCRt_wnUPO3"
      },
      "execution_count": null,
      "outputs": []
    },
    {
      "cell_type": "code",
      "source": [
        "# Question: Create a recursive Python function to generate all possible combinations of a list of elements.\n",
        "\n",
        "def get_combinations(lst):\n",
        "  if not lst:\n",
        "    return [[]]\n",
        "\n",
        "  result = []\n",
        "  for i in range(len(lst)):\n",
        "    current_element = lst[i]\n",
        "    remaining_elements = lst[:i] + lst[i+1:]\n",
        "\n",
        "    for combination in get_combinations(remaining_elements):\n",
        "      result.append([current_element] + combination)\n",
        "\n",
        "  return result\n"
      ],
      "metadata": {
        "id": "qzb1b6yBUPFO"
      },
      "execution_count": null,
      "outputs": []
    },
    {
      "cell_type": "code",
      "source": [
        "# Question: Write a recursive Python function to find all permutations of a given string.\n",
        "\n",
        "def get_permutations(s):\n",
        "  if len(s) == 1:\n",
        "    return [s]\n",
        "\n",
        "  result = []\n",
        "  for i, char in enumerate(s):\n",
        "    remaining_chars = s[:i] + s[i+1:]\n",
        "    for permutation in get_permutations(remaining_chars):\n",
        "      result.append(char + permutation)\n",
        "  return result\n",
        "\n",
        "# Example usage\n",
        "string = \"abc\"\n",
        "permutations = get_permutations(string)\n",
        "print(\"Permutations of\", string, \"are:\", permutations)\n"
      ],
      "metadata": {
        "colab": {
          "base_uri": "https://localhost:8080/"
        },
        "id": "K6-k5laxUO5p",
        "outputId": "f2f2bd14-df8a-47a9-f880-b2162c1f6296"
      },
      "execution_count": null,
      "outputs": [
        {
          "output_type": "stream",
          "name": "stdout",
          "text": [
            "Permutations of abc are: ['abc', 'acb', 'bac', 'bca', 'cab', 'cba']\n"
          ]
        }
      ]
    },
    {
      "cell_type": "markdown",
      "source": [
        "# **Basics of Functions**"
      ],
      "metadata": {
        "id": "KM7P_Q1dVvab"
      }
    },
    {
      "cell_type": "code",
      "source": [
        "# Question: What is a function in Python, and why is it used?\n",
        "\n",
        "# A function in Python is a block of reusable code that performs a specific task.\n",
        "# It's like a mini-program within your main program.\n",
        "\n",
        "# Why use functions?\n",
        "\n",
        "# 1. Code Reusability: Avoid writing the same code multiple times.\n",
        "# 2. Modularity: Break down complex problems into smaller, manageable parts.\n",
        "# 3. Readability: Make your code easier to understand and maintain.\n",
        "# 4. Abstraction: Hide complex implementation details behind a simple interface.\n",
        "\n",
        "# Example:\n",
        "def greet(name):\n",
        "  \"\"\"This function greets the person passed in as a parameter.\"\"\"\n",
        "  print(f\"Hello, {name}!\")\n",
        "\n",
        "greet(\"Alice\") # Output: Hello, Alice!\n"
      ],
      "metadata": {
        "colab": {
          "base_uri": "https://localhost:8080/"
        },
        "id": "S4YXlkjiV6Mf",
        "outputId": "c699ee5b-e3f8-4066-9535-e4f7956d1701"
      },
      "execution_count": null,
      "outputs": [
        {
          "output_type": "stream",
          "name": "stdout",
          "text": [
            "Hello, Alice!\n"
          ]
        }
      ]
    },
    {
      "cell_type": "code",
      "source": [
        "# Question: How do you define a function in Python? Provide an example.\n",
        "\n",
        "# Use the 'def' keyword followed by the function name, parentheses for parameters, and a colon.\n",
        "# Indent the code block within the function.\n",
        "\n",
        "def my_function(parameter1, parameter2):\n",
        "  \"\"\"This is a docstring that describes what the function does.\"\"\"\n",
        "  # Code to be executed\n",
        "  result = parameter1 + parameter2\n",
        "  return result\n",
        "\n",
        "# Example usage\n",
        "sum = my_function(5, 3)\n",
        "print(sum)  # Output: 8\n"
      ],
      "metadata": {
        "colab": {
          "base_uri": "https://localhost:8080/"
        },
        "id": "uVjU7LHOWBzP",
        "outputId": "df1e5fa0-338b-45d5-a84b-e6b4d8174b0c"
      },
      "execution_count": null,
      "outputs": [
        {
          "output_type": "stream",
          "name": "stdout",
          "text": [
            "8\n"
          ]
        }
      ]
    },
    {
      "cell_type": "code",
      "source": [
        "# Question: Explain the difference between a function definition and a function call.\n",
        "\n",
        "# **Function Definition:**\n",
        "\n",
        "# * **Creates the function:** This is where you define the function's name, parameters (if any), and the code that will be executed when the function is called.\n",
        "# * **Uses the `def` keyword:**  The `def` keyword in Python indicates that you are defining a function.\n",
        "# * **Not executed immediately:** The code within a function definition is not executed until the function is called.\n",
        "\n",
        "# **Example:**\n",
        "\n",
        "def add_numbers(x, y):  # Function definition\n",
        "  \"\"\"This function adds two numbers and returns the sum.\"\"\"\n",
        "  sum = x + y\n",
        "  return sum\n",
        "\n",
        "# **Function Call:**\n",
        "\n",
        "# * **Executes the function:** This is where you actually use the function to perform its task.\n",
        "# * **Provides arguments (if needed):** You pass values (arguments) to the function's parameters, if it has any.\n",
        "# * **Returns a value (optional):** The function may return a value back to the caller.\n",
        "\n",
        "# **Example:**\n",
        "\n",
        "result = add_numbers(5, 3)  # Function call\n",
        "print(result)  # Output: 8\n"
      ],
      "metadata": {
        "colab": {
          "base_uri": "https://localhost:8080/"
        },
        "id": "t9bPaY5fWBoN",
        "outputId": "f5b2daa0-b264-4974-ae6b-911431a3e1c3"
      },
      "execution_count": null,
      "outputs": [
        {
          "output_type": "stream",
          "name": "stdout",
          "text": [
            "8\n"
          ]
        }
      ]
    },
    {
      "cell_type": "code",
      "source": [
        "# Question: Write a Python program that defines a function to calculate the sum of two numbers and then calls the function.\n",
        "\n",
        "def calculate_sum(x, y):\n",
        "  \"\"\"This function calculates the sum of two numbers.\"\"\"\n",
        "  sum = x + y\n",
        "  return sum\n",
        "\n",
        "# Get input from the user\n",
        "num1 = float(input(\"Enter the first number: \"))\n",
        "num2 = float(input(\"Enter the second number: \"))\n",
        "\n",
        "# Call the function and print the result\n",
        "result = calculate_sum(num1, num2)\n",
        "print(\"The sum is:\", result)\n"
      ],
      "metadata": {
        "colab": {
          "base_uri": "https://localhost:8080/"
        },
        "id": "R2rZse9KWBdb",
        "outputId": "e26017a5-e4ea-4aa8-ab26-e9e9cfffeda8"
      },
      "execution_count": null,
      "outputs": [
        {
          "output_type": "stream",
          "name": "stdout",
          "text": [
            "Enter the first number: 4\n",
            "Enter the second number: 5\n",
            "The sum is: 9.0\n"
          ]
        }
      ]
    },
    {
      "cell_type": "code",
      "source": [
        "# Question: What is a function signature, and what information does it typically include?\n",
        "\n",
        "# A function signature is like a blueprint or a contract for a function.\n",
        "# It provides essential information about how to use the function.\n",
        "\n",
        "# Typically, a function signature includes:\n",
        "\n",
        "# 1. Function Name: The name that identifies the function.\n",
        "# 2. Parameters: The input values the function accepts (if any).\n",
        "#     - Parameter names:  The names used to refer to the input values within the function.\n",
        "#     - Parameter types (optional): In some languages, you specify the data types of the parameters (e.g., int, float, string). Python is dynamically typed, so you don't usually include types in the signature.\n",
        "#     - Default values (optional):  Values that parameters take on if no argument is provided during the function call.\n",
        "# 3. Return Type (optional): The data type of the value the function returns (if any). Python doesn't require explicit return types in the signature.\n",
        "\n",
        "# Example:\n",
        "\n",
        "def calculate_area(length, width):  # Signature\n",
        "  \"\"\"Calculates the area of a rectangle.\"\"\"\n",
        "  area = length * width\n",
        "  return area\n",
        "\n",
        "# In this example:\n",
        "\n",
        "# - `calculate_area` is the function name.\n",
        "# - `length` and `width` are the parameters.\n",
        "# - There are no explicit types or default values for the parameters.\n",
        "# - The function implicitly returns a numeric value (likely a float).\n",
        "\n",
        "# Why function signatures are important:\n",
        "\n",
        "# - Documentation: They tell developers how to use the function correctly.\n",
        "# - Type Checking (in some languages): Help compilers or interpreters catch errors related to incorrect data types being passed to functions.\n",
        "# - Code Readability: Make it easier to understand the purpose and usage of a function without having to examine the entire code.\n"
      ],
      "metadata": {
        "id": "yihTKazhWBSE"
      },
      "execution_count": null,
      "outputs": []
    },
    {
      "cell_type": "code",
      "source": [
        "# Question: Create a Python function that takes two arguments and returns their product.\n",
        "\n",
        "def multiply(x, y):\n",
        "  \"\"\"This function returns the product of two numbers.\"\"\"\n",
        "  return x * y\n",
        "\n",
        "# Example usage\n",
        "num1 = 5\n",
        "num2 = 3\n",
        "result = multiply(num1, num2)\n",
        "print(f\"The product of {num1} and {num2} is: {result}\")\n"
      ],
      "metadata": {
        "colab": {
          "base_uri": "https://localhost:8080/"
        },
        "id": "Fmi4myk5WBE_",
        "outputId": "d3fbea21-dce0-4c91-98f7-cad6a08e6a73"
      },
      "execution_count": null,
      "outputs": [
        {
          "output_type": "stream",
          "name": "stdout",
          "text": [
            "The product of 5 and 3 is: 15\n"
          ]
        }
      ]
    },
    {
      "cell_type": "markdown",
      "source": [
        "# **Function Parameters and Arguments:**"
      ],
      "metadata": {
        "id": "PrpU5N7xWR4i"
      }
    },
    {
      "cell_type": "code",
      "source": [
        "# Question: Explain the concepts of formal parameters and actual arguments in Python functions.\n",
        "\n",
        "# **Formal Parameters:**\n",
        "\n",
        "# * **Placeholders:** Formal parameters are like placeholders or variables defined in the function signature.\n",
        "# * **Used inside the function:** They act as local variables within the function and are used to refer to the values passed as arguments when the function is called.\n",
        "\n",
        "# **Example:**\n",
        "\n",
        "def greet(name):  # 'name' is the formal parameter\n",
        "  print(f\"Hello, {name}!\")\n",
        "\n",
        "# **Actual Arguments:**\n",
        "\n",
        "# * **Values passed during the call:** Actual arguments are the specific values that you provide when you call a function.\n",
        "# * **Assigned to formal parameters:** These values are assigned to the corresponding formal parameters in the function definition.\n",
        "\n",
        "# **Example:**\n",
        "\n",
        "greet(\"Alice\")  # \"Alice\" is the actual argument\n",
        "\n",
        "# **In simpler terms:**\n",
        "\n",
        "# Imagine a function as a machine that takes some input and produces an output.\n",
        "\n",
        "# * Formal parameters are the labels on the input slots of the machine.\n",
        "# * Actual arguments are the actual items you put into those slots when you run the machine.\n"
      ],
      "metadata": {
        "colab": {
          "base_uri": "https://localhost:8080/"
        },
        "id": "gyGxzMkiWYvx",
        "outputId": "a151c156-acac-48ea-f5c7-dd2b1747c2c8"
      },
      "execution_count": null,
      "outputs": [
        {
          "output_type": "stream",
          "name": "stdout",
          "text": [
            "Hello, Alice!\n"
          ]
        }
      ]
    },
    {
      "cell_type": "code",
      "source": [
        "# Question: Write a Python program that defines a function with default argument values.\n",
        "\n",
        "def greet(name=\"Guest\"):\n",
        "  \"\"\"Greets the person with the provided name.\n",
        "  If no name is provided, greets a guest.\n",
        "  \"\"\"\n",
        "  print(f\"Hello, {name}!\")\n",
        "\n",
        "greet(\"Alice\")  # Output: Hello, Alice!\n",
        "greet()  # Output: Hello, Guest!\n"
      ],
      "metadata": {
        "colab": {
          "base_uri": "https://localhost:8080/"
        },
        "id": "VFUH9WbEWbyI",
        "outputId": "7fabfe69-9c43-4e64-ad5d-1f032ad39d77"
      },
      "execution_count": null,
      "outputs": [
        {
          "output_type": "stream",
          "name": "stdout",
          "text": [
            "Hello, Alice!\n",
            "Hello, Guest!\n"
          ]
        }
      ]
    },
    {
      "cell_type": "code",
      "source": [
        "# Question: How do you use keyword arguments in Python function calls? Provide an example.\n",
        "\n",
        "def describe_pet(animal_type, pet_name):\n",
        "  \"\"\"Display information about a pet.\"\"\"\n",
        "  print(f\"\\nI have a {animal_type}.\")\n",
        "  print(f\"My {animal_type}'s name is {pet_name.title()}.\")\n",
        "\n",
        "describe_pet(animal_type='hamster', pet_name='harry')\n"
      ],
      "metadata": {
        "colab": {
          "base_uri": "https://localhost:8080/"
        },
        "id": "_WDny2tnWbmx",
        "outputId": "1203552a-18fd-417f-bc71-479e926248e5"
      },
      "execution_count": null,
      "outputs": [
        {
          "output_type": "stream",
          "name": "stdout",
          "text": [
            "\n",
            "I have a hamster.\n",
            "My hamster's name is Harry.\n"
          ]
        }
      ]
    },
    {
      "cell_type": "code",
      "source": [
        "# Question: Create a Python function that accepts a variable number of arguments and calculates their sum.\n",
        "\n",
        "def calculate_sum(*args):\n",
        "  \"\"\"Calculates the sum of a variable number of arguments.\n",
        "\n",
        "  Args:\n",
        "    *args: A variable number of numerical arguments.\n",
        "\n",
        "  Returns:\n",
        "    The sum of the arguments.\n",
        "  \"\"\"\n",
        "  total = 0\n",
        "  for num in args:\n",
        "    total += num\n",
        "  return total\n",
        "\n",
        "# Example usage\n",
        "result = calculate_sum(1, 2, 3, 4, 5)\n",
        "print(\"Sum:\", result)\n"
      ],
      "metadata": {
        "colab": {
          "base_uri": "https://localhost:8080/"
        },
        "id": "9xPwg4fDWbbU",
        "outputId": "c36798f8-82b1-4311-eb61-e78eafe42b94"
      },
      "execution_count": null,
      "outputs": [
        {
          "output_type": "stream",
          "name": "stdout",
          "text": [
            "Sum: 15\n"
          ]
        }
      ]
    },
    {
      "cell_type": "code",
      "source": [
        "# Question: What is the purpose of the `*args` and `**kwargs` syntax in function parameter lists?\n",
        "\n",
        "# The *args and **kwargs syntax in function parameter lists allows you to pass a variable number of arguments to a function.\n",
        "\n",
        "# *args\n",
        "\n",
        "# *args is used to pass a variable number of non-keyword arguments to a function.\n",
        "# The arguments are passed as a tuple.\n",
        "\n",
        "def my_function(*args):\n",
        "  for arg in args:\n",
        "    print(arg)\n",
        "\n",
        "my_function(1, 2, 3)\n",
        "\n",
        "\n",
        "# **kwargs\n",
        "\n",
        "# **kwargs is used to pass a variable number of keyword arguments to a function.\n",
        "# The arguments are passed as a dictionary.\n",
        "\n",
        "def my_function(**kwargs):\n",
        "  for key, value in kwargs.items():\n",
        "    print(f\"{key}: {value}\")\n",
        "\n",
        "my_function(name=\"Alice\", age=30)\n"
      ],
      "metadata": {
        "colab": {
          "base_uri": "https://localhost:8080/"
        },
        "id": "JBLiwZYdWbPo",
        "outputId": "fb83b1c3-db0e-44ea-f2c3-08adecd9421a"
      },
      "execution_count": null,
      "outputs": [
        {
          "output_type": "stream",
          "name": "stdout",
          "text": [
            "1\n",
            "2\n",
            "3\n",
            "name: Alice\n",
            "age: 30\n"
          ]
        }
      ]
    },
    {
      "cell_type": "markdown",
      "source": [
        "# **Return Values and Scoping**"
      ],
      "metadata": {
        "id": "vhIbaJdpXXfd"
      }
    },
    {
      "cell_type": "code",
      "source": [
        "# Question: Describe the role of the `return` statement in Python functions and provide examples.\n",
        "\n",
        "# The `return` statement in Python functions has two primary roles:\n",
        "\n",
        "# 1. Terminating the Function:\n",
        "#    - When a `return` statement is encountered within a function, the function immediately stops executing, and control returns to the caller.\n",
        "\n",
        "# 2. Returning a Value:\n",
        "#    -  The `return` statement can be used to send a value back from the function to the caller. This value can be of any data type (e.g., numbers, strings, lists, objects, or even other functions).\n",
        "\n",
        "# Example 1: Returning a Value\n",
        "\n",
        "def add_numbers(x, y):\n",
        "  \"\"\"This function adds two numbers and returns the sum.\"\"\"\n",
        "  sum = x + y\n",
        "  return sum  # Returns the calculated sum\n",
        "\n",
        "result = add_numbers(5, 3)\n",
        "print(result)  # Output: 8\n",
        "\n",
        "# Example 2: Terminating the Function\n",
        "\n",
        "def print_even_numbers(numbers):\n",
        "  \"\"\"Prints even numbers from a list and stops if an odd number is found.\"\"\"\n",
        "  for num in numbers:\n",
        "    if num % 2 == 0:\n",
        "      print(num)\n",
        "    else:\n",
        "      return  # Terminate the function if an odd number is encountered\n",
        "\n",
        "print_even_numbers([2, 4, 6, 7, 8])  # Output: 2 4 6\n",
        "\n",
        "# Example 3: Returning Multiple Values\n",
        "\n",
        "def get_name_and_age():\n",
        "  \"\"\"Returns a person's name and age.\"\"\"\n",
        "  name = \"Alice\"\n",
        "  age = 30\n",
        "  return name, age  # Returns a tuple\n",
        "\n",
        "person_name, person_age = get_name_and_age()\n",
        "print(f\"Name: {person_name}, Age: {person_age}\")\n",
        "\n",
        "# Important Notes:\n",
        "\n",
        "# - If a function doesn't have a `return` statement, it implicitly returns `None`.\n",
        "# - You can have multiple `return` statements in a function, but only one will be executed before the function terminates.\n"
      ],
      "metadata": {
        "colab": {
          "base_uri": "https://localhost:8080/"
        },
        "id": "b9KXwocIXbui",
        "outputId": "61cd442e-ba59-4812-a6eb-a95dca3a6816"
      },
      "execution_count": null,
      "outputs": [
        {
          "output_type": "stream",
          "name": "stdout",
          "text": [
            "8\n",
            "2\n",
            "4\n",
            "6\n",
            "Name: Alice, Age: 30\n"
          ]
        }
      ]
    },
    {
      "cell_type": "code",
      "source": [
        "# Question: Explain the concept of variable scope in Python, including local and global variables\n",
        "\n",
        "# **Variable Scope**\n",
        "\n",
        "# Scope refers to the region of your code where a variable is accessible or visible.\n",
        "\n",
        "# **Local Variables**\n",
        "\n",
        "# * Declared inside a function: Local variables are created within a function.\n",
        "# * Limited scope: They can only be accessed within that specific function.\n",
        "\n",
        "def my_function():\n",
        "  x = 10  # Local variable\n",
        "  print(x)\n",
        "\n",
        "my_function() # Output: 10\n",
        "# print(x)  # This would cause an error because x is not accessible outside the function\n",
        "\n",
        "# **Global Variables**\n",
        "\n",
        "# * Declared outside any function: Global variables are defined outside of any function.\n",
        "# * Broader scope: They can be accessed from anywhere within your program, both inside and outside functions.\n",
        "\n",
        "y = 20  # Global variable\n",
        "\n",
        "def another_function():\n",
        "  print(y)\n",
        "\n",
        "another_function() # Output: 20\n",
        "print(y)  # Output: 20\n",
        "\n",
        "# **The `global` Keyword**\n",
        "\n",
        "# If you need to modify a global variable from within a function, use the `global` keyword.\n",
        "\n",
        "def modify_global():\n",
        "  global y\n",
        "  y = 30\n",
        "\n",
        "modify_global()\n",
        "print(y)  # Output: 30\n",
        "\n",
        "# **Best Practices**\n",
        "\n",
        "# * Minimize global variables: Excessive use of global variables can make your code harder to understand and debug.\n",
        "# * Prioritize local variables: Use local variables whenever possible to keep your code modular and prevent unintended side effects.\n"
      ],
      "metadata": {
        "colab": {
          "base_uri": "https://localhost:8080/"
        },
        "id": "axlvL8lQXdKt",
        "outputId": "cda27ab1-83ce-49b0-a778-360971b0d925"
      },
      "execution_count": null,
      "outputs": [
        {
          "output_type": "stream",
          "name": "stdout",
          "text": [
            "10\n",
            "20\n",
            "20\n",
            "30\n"
          ]
        }
      ]
    },
    {
      "cell_type": "code",
      "source": [
        "# Question: Write a Python program that demonstrates the use of global variables within functions\n",
        "\n",
        "# Define a global variable\n",
        "global_var = 10\n",
        "\n",
        "def access_global():\n",
        "  \"\"\"Accesses and prints the global variable.\"\"\"\n",
        "  print(\"Inside access_global():\", global_var)\n",
        "\n",
        "def modify_global():\n",
        "  \"\"\"Modifies the global variable using the 'global' keyword.\"\"\"\n",
        "  global global_var\n",
        "  global_var = 20\n",
        "  print(\"Inside modify_global():\", global_var)\n",
        "\n",
        "# Access the global variable before modification\n",
        "access_global()\n",
        "\n",
        "# Modify the global variable\n",
        "modify_global()\n",
        "\n",
        "# Access the global variable after modification\n",
        "access_global()\n"
      ],
      "metadata": {
        "colab": {
          "base_uri": "https://localhost:8080/"
        },
        "id": "ETW0h9c8XdeO",
        "outputId": "562278d8-fe67-42b8-9394-ead14825c240"
      },
      "execution_count": null,
      "outputs": [
        {
          "output_type": "stream",
          "name": "stdout",
          "text": [
            "Inside access_global(): 10\n",
            "Inside modify_global(): 20\n",
            "Inside access_global(): 20\n"
          ]
        }
      ]
    },
    {
      "cell_type": "code",
      "source": [
        "# Question: Create a Python function that calculates the factorial of a number and returns it.\n",
        "\n",
        "def factorial(n):\n",
        "  \"\"\"\n",
        "  This function calculates the factorial of a non-negative integer.\n",
        "\n",
        "  Args:\n",
        "    n: The non-negative integer for which to calculate the factorial.\n",
        "\n",
        "  Returns:\n",
        "    The factorial of n, or 1 if n is 0.\n",
        "  \"\"\"\n",
        "  if n == 0:\n",
        "    return 1\n",
        "  else:\n",
        "    return n * factorial(n - 1)\n"
      ],
      "metadata": {
        "id": "KU2H1Q0dXdsJ"
      },
      "execution_count": null,
      "outputs": []
    },
    {
      "cell_type": "code",
      "source": [
        "# Question: How can you access variables defined outside a function from within the function?\n",
        "\n",
        "# Global variables can be accessed from within a function without any special keywords.\n"
      ],
      "metadata": {
        "id": "f1g3wXZOXd5w"
      },
      "execution_count": null,
      "outputs": []
    },
    {
      "cell_type": "markdown",
      "source": [
        "# **Lambda Functions and Higher-Order Functions**"
      ],
      "metadata": {
        "id": "43NaJT3WXqjG"
      }
    },
    {
      "cell_type": "code",
      "source": [
        "# Question: What are lambda functions in Python, and when are they typically used?\n",
        "\n",
        "# Lambda functions in Python are anonymous, small, and single-expression functions.\n",
        "# They are defined using the `lambda` keyword.\n",
        "\n",
        "# Here's the basic syntax:\n",
        "\n",
        "# lambda arguments: expression\n",
        "\n",
        "# Example:\n",
        "\n",
        "add = lambda x, y: x + y\n",
        "print(add(5, 3))  # Output: 8\n",
        "\n",
        "# When to use lambda functions:\n",
        "\n",
        "# 1. Short, simple operations:  Lambda functions are ideal for operations that can be expressed in a single line of code.\n",
        "\n",
        "# 2. As arguments to higher-order functions: Lambda functions are often used as arguments to functions like `map`, `filter`, and `reduce`.\n",
        "\n",
        "# Example with `filter`:\n",
        "\n",
        "numbers = [1, 2, 3, 4, 5, 6]\n",
        "even_numbers = list(filter(lambda x: x % 2 == 0, numbers))\n",
        "print(even_numbers)  # Output: [2, 4, 6]\n",
        "\n",
        "# 3. Closures: Lambda functions can capture variables from their surrounding scope, creating closures.\n",
        "\n",
        "# 4. One-time use: If you need a simple function that you'll only use once, a lambda function can be more concise than a regular function definition.\n",
        "\n",
        "# Key characteristics:\n",
        "\n",
        "# * Anonymous: They don't have a name like regular functions.\n",
        "# * Single expression: They evaluate and return only one expression.\n",
        "# * Concise: They are compact and can be defined in a single line.\n"
      ],
      "metadata": {
        "colab": {
          "base_uri": "https://localhost:8080/"
        },
        "id": "8amvdXYwXvL8",
        "outputId": "9a97760f-f548-4ea5-d9ac-389c464556a7"
      },
      "execution_count": null,
      "outputs": [
        {
          "output_type": "stream",
          "name": "stdout",
          "text": [
            "8\n",
            "[2, 4, 6]\n"
          ]
        }
      ]
    },
    {
      "cell_type": "code",
      "source": [
        "# Question: Write a Python program that uses lambda functions to sort a list of tuples based on the second element.\n",
        "\n",
        "# Sample list of tuples\n",
        "data = [('apple', 5), ('banana', 2), ('cherry', 8), ('date', 1)]\n",
        "\n",
        "# Sort the list based on the second element of each tuple\n",
        "sorted_data = sorted(data, key=lambda x: x[1])\n",
        "\n",
        "# Print the sorted list\n",
        "print(\"Sorted list:\", sorted_data)\n"
      ],
      "metadata": {
        "colab": {
          "base_uri": "https://localhost:8080/"
        },
        "id": "296uUF0nXynt",
        "outputId": "04ea7a82-ffae-4776-95a4-54f33130c8e1"
      },
      "execution_count": null,
      "outputs": [
        {
          "output_type": "stream",
          "name": "stdout",
          "text": [
            "Sorted list: [('date', 1), ('banana', 2), ('apple', 5), ('cherry', 8)]\n"
          ]
        }
      ]
    },
    {
      "cell_type": "code",
      "source": [
        "# Question: Explain the concept of higher-order functions in Python, and provide an example.\n",
        "\n",
        "# Higher-order functions are functions that can take other functions as arguments or return functions as results.\n",
        "\n",
        "# Example:\n",
        "\n",
        "def apply_operation(func, x, y):\n",
        "  \"\"\"Applies a given function to two numbers.\n",
        "\n",
        "  Args:\n",
        "    func: The function to apply.\n",
        "    x: The first number.\n",
        "    y: The second number.\n",
        "\n",
        "  Returns:\n",
        "    The result of applying the function to the numbers.\n",
        "  \"\"\"\n",
        "  return func(x, y)\n",
        "\n",
        "def add(x, y):\n",
        "  return x + y\n",
        "\n",
        "def subtract(x, y):\n",
        "  return x - y\n",
        "\n",
        "result1 = apply_operation(add, 5, 3)  # Using the 'add' function\n",
        "result2 = apply_operation(subtract, 5, 3)  # Using the 'subtract' function\n",
        "\n",
        "print(f\"Result of addition: {result1}\")\n",
        "print(f\"Result of subtraction: {result2}\")\n"
      ],
      "metadata": {
        "colab": {
          "base_uri": "https://localhost:8080/"
        },
        "id": "lKPgZFf6XybM",
        "outputId": "5a0ebda9-e872-4aec-c8cd-1fe7a4b6e742"
      },
      "execution_count": null,
      "outputs": [
        {
          "output_type": "stream",
          "name": "stdout",
          "text": [
            "Result of addition: 8\n",
            "Result of subtraction: 2\n"
          ]
        }
      ]
    },
    {
      "cell_type": "code",
      "source": [
        "# Question: Create a Python function that takes a list of numbers and a function as arguments, applying the function to each element in the list.\n",
        "\n",
        "def apply_to_list(numbers, func):\n",
        "  \"\"\"Applies a function to each element in a list.\n",
        "\n",
        "  Args:\n",
        "    numbers: A list of numbers.\n",
        "    func: The function to apply to each element.\n",
        "\n",
        "  Returns:\n",
        "    A new list with the function applied to each element.\n",
        "  \"\"\"\n",
        "  return [func(x) for x in numbers]\n"
      ],
      "metadata": {
        "id": "CYU-wK9QXyNz"
      },
      "execution_count": null,
      "outputs": []
    },
    {
      "cell_type": "markdown",
      "source": [
        "# **Built-in Functions**"
      ],
      "metadata": {
        "id": "-KyeQngHX7-8"
      }
    },
    {
      "cell_type": "code",
      "source": [
        "# Question: Describe the role of built-in functions like `len()`, `max()`, and `min()` in Python\n",
        "\n",
        "# `len()`\n",
        "\n",
        "# - Purpose: Returns the number of items in a sequence (e.g., string, list, tuple, dictionary).\n",
        "# - Example:\n",
        "my_list = [1, 2, 3, 4, 5]\n",
        "length = len(my_list)\n",
        "print(f\"The length of the list is: {length}\")\n",
        "\n",
        "# `max()`\n",
        "\n",
        "# - Purpose: Returns the largest item in an iterable or the largest of two or more arguments.\n",
        "# - Example:\n",
        "numbers = [10, 5, 25, 18]\n",
        "maximum = max(numbers)\n",
        "print(f\"The maximum value is: {maximum}\")\n",
        "\n",
        "# `min()`\n",
        "\n",
        "# - Purpose: Returns the smallest item in an iterable or the smallest of two or more arguments.\n",
        "# - Example:\n",
        "numbers = [10, 5, 25, 18]\n",
        "minimum = min(numbers)\n",
        "print(f\"The minimum value is: {minimum}\")\n"
      ],
      "metadata": {
        "colab": {
          "base_uri": "https://localhost:8080/"
        },
        "id": "6VZUXr0xYAJ0",
        "outputId": "c474d65b-ec31-4af5-c7ff-a5b388006958"
      },
      "execution_count": null,
      "outputs": [
        {
          "output_type": "stream",
          "name": "stdout",
          "text": [
            "The length of the list is: 5\n",
            "The maximum value is: 25\n",
            "The minimum value is: 5\n"
          ]
        }
      ]
    },
    {
      "cell_type": "code",
      "source": [
        "# Question: Write a Python program that uses the `map()` function to apply a function to each element of a list.\n",
        "\n",
        "def square(x):\n",
        "  \"\"\"Returns the square of a number.\"\"\"\n",
        "  return x * x\n",
        "\n",
        "numbers = [1, 2, 3, 4, 5]\n",
        "\n",
        "# Use map to apply the square function to each element of the list\n",
        "squared_numbers = list(map(square, numbers))\n",
        "\n",
        "# Print the squared numbers\n",
        "print(\"Squared numbers:\", squared_numbers)\n"
      ],
      "metadata": {
        "colab": {
          "base_uri": "https://localhost:8080/"
        },
        "id": "QvngMUP1YBGy",
        "outputId": "7a61acb1-0c18-4ddd-a257-145afe20cdc0"
      },
      "execution_count": null,
      "outputs": [
        {
          "output_type": "stream",
          "name": "stdout",
          "text": [
            "Squared numbers: [1, 4, 9, 16, 25]\n"
          ]
        }
      ]
    },
    {
      "cell_type": "code",
      "source": [
        "# Question: How does the `filter()` function work in Python, and when would you use it?\n",
        "\n",
        "# The `filter()` function is a built-in function in Python that allows you to\n",
        "# create a new iterable containing only the elements from an existing iterable\n",
        "# that satisfy a certain condition.\n",
        "\n",
        "# How it works:\n",
        "\n",
        "# 1. Takes two arguments:\n",
        "#    - A function: This function should take a single argument (an element from\n",
        "#      the iterable) and return `True` if the element should be included in the\n",
        "#      filtered iterable or `False` if it should be excluded.\n",
        "#    - An iterable: This is the sequence of elements you want to filter (e.g., a\n",
        "#      list, tuple, or string).\n",
        "\n",
        "# 2. Returns an iterator: `filter()` returns an iterator that yields the elements\n",
        "#    for which the function returns `True`.\n",
        "\n",
        "# Example:\n",
        "\n",
        "numbers = [1, 2, 3, 4, 5, 6]\n",
        "\n",
        "# Function to check if a number is even\n",
        "def is_even(n):\n",
        "  return n % 2 == 0\n",
        "\n",
        "# Use filter to get even numbers\n",
        "even_numbers = list(filter(is_even, numbers))\n",
        "print(even_numbers)  # Output: [2, 4, 6]\n",
        "\n",
        "# When to use `filter()`:\n",
        "\n",
        "# 1. Selecting elements: When you need to extract specific elements from an\n",
        "#    iterable based on a condition.\n",
        "\n",
        "# 2. Removing unwanted elements: When you want to create a new iterable without\n",
        "#    elements that meet certain criteria.\n",
        "\n",
        "# 3. Data cleaning:  To filter out invalid or irrelevant data from a dataset.\n",
        "\n",
        "# 4. Combining with other functions: `filter()` can be used with other\n",
        "#    higher-order functions like `map()` and `reduce()` for more complex data\n",
        "#    manipulations.\n",
        "\n",
        "# Example with lambda function:\n",
        "\n",
        "numbers = [1, 2, 3, 4, 5, 6]\n",
        "odd_numbers = list(filter(lambda x: x % 2 != 0, numbers))\n",
        "print(odd_numbers)  # Output: [1, 3, 5]\n"
      ],
      "metadata": {
        "colab": {
          "base_uri": "https://localhost:8080/"
        },
        "id": "3Cc22Yl2YA71",
        "outputId": "76b41db8-d20a-414e-c0e0-0e2c343b1a63"
      },
      "execution_count": null,
      "outputs": [
        {
          "output_type": "stream",
          "name": "stdout",
          "text": [
            "[2, 4, 6]\n",
            "[1, 3, 5]\n"
          ]
        }
      ]
    },
    {
      "cell_type": "code",
      "source": [
        "# Question: Create a Python program that uses the `reduce()` function to find the product of all elements in a list.\n",
        "\n",
        "from functools import reduce\n",
        "\n",
        "def multiply(x, y):\n",
        "  \"\"\"Returns the product of two numbers.\"\"\"\n",
        "  return x * y\n",
        "\n",
        "numbers = [1, 2, 3, 4, 5]\n",
        "\n",
        "# Use reduce to find the product of all elements\n",
        "product = reduce(multiply, numbers)\n",
        "\n",
        "# Print the product\n",
        "print(\"Product of all elements:\", product)\n"
      ],
      "metadata": {
        "colab": {
          "base_uri": "https://localhost:8080/"
        },
        "id": "acBiHvFjYAnG",
        "outputId": "bf432f5e-c4e0-4e04-8bc5-c98d392b5fb0"
      },
      "execution_count": null,
      "outputs": [
        {
          "output_type": "stream",
          "name": "stdout",
          "text": [
            "Product of all elements: 120\n"
          ]
        }
      ]
    },
    {
      "cell_type": "markdown",
      "source": [
        "# **Function Documentation and Best Practices**"
      ],
      "metadata": {
        "id": "jXJZ2NAhYMt8"
      }
    },
    {
      "cell_type": "code",
      "source": [
        "# Question: Explain the purpose of docstrings in Python functions and how to write them\n",
        "\n",
        "# Docstrings (documentation strings) are multiline strings used to document Python code.\n",
        "# They're written within triple quotes (`\"\"\"Docstring goes here\"\"\"`) and are used to explain what a function, class, module, or method does.\n",
        "\n",
        "# Purpose of Docstrings:\n",
        "\n",
        "# 1. Documentation: They serve as the official documentation for your code.\n",
        "# 2. Readability: Help make your code easier to understand.\n",
        "# 3. Tools: Used by documentation generators (like Sphinx) and IDEs for help texts.\n",
        "\n",
        "# How to Write Docstrings:\n",
        "\n",
        "# 1. First line: Start with a concise summary of the object's purpose. This should be on the first line and can be followed by a more detailed explanation after a blank line.\n",
        "# 2. Parameters and return types: For functions, clearly document the parameters, their types, and what the function returns.\n",
        "# 3. Attributes: For classes, document the main attributes and their purpose.\n",
        "# 4. Examples: Include simple examples to show how to use the documented object.\n",
        "\n",
        "# Example:\n",
        "\n",
        "def my_function(param1, param2):\n",
        "  \"\"\"This is a docstring for my_function.\n",
        "\n",
        "  This function does something amazing.\n",
        "\n",
        "  Args:\n",
        "    param1: The first parameter.\n",
        "    param2: The second parameter.\n",
        "\n",
        "  Returns:\n",
        "    The result of the amazing thing.\n",
        "  \"\"\"\n",
        "  # function code here\n",
        "\n",
        "# Best Practices:\n",
        "\n",
        "# * Write docstrings for all public modules, functions, classes, and methods.\n",
        "# * Use proper grammar and punctuation.\n",
        "# * Keep docstrings concise and to the point.\n",
        "# * Use consistent formatting.\n"
      ],
      "metadata": {
        "id": "cjNKDAQrYVlM"
      },
      "execution_count": null,
      "outputs": []
    },
    {
      "cell_type": "code",
      "source": [
        "# Question: Describe some best practices for naming functions and variables in Python, including naming conventions and guidelines"
      ],
      "metadata": {
        "id": "hPAcsNHCYRZE"
      },
      "execution_count": null,
      "outputs": []
    },
    {
      "cell_type": "markdown",
      "source": [
        "# **Naming Conventions**\n",
        "\n",
        "* **Snake Case:** Use lowercase words separated by underscores for function and variable names.\n",
        "  * Example: `calculate_average`, `user_name`\n",
        "\n",
        "* **Pascal Case (CapWords):** Use uppercase for the first letter of each word for class names.\n",
        "  * Example: `BankAccount`, `ShoppingCart`\n",
        "\n",
        "* **Constants:** Use uppercase letters with underscores for constants.\n",
        "  * Example: `MAX_VALUE`, `PI`\n",
        "\n",
        "# **Guidelines**\n",
        "\n",
        "* **Descriptive Names:** Choose names that clearly indicate the purpose of the function or variable.\n",
        "  * Good: `calculate_total_amount`, `get_user_input`\n",
        "  * Bad: `func1`, `x`\n",
        "\n",
        "* **Avoid Abbreviations:** Use full words unless the abbreviation is very well known (e.g., `http`).\n",
        "  * Good: `connection_status`, `calculate_distance`\n",
        "  * Bad: `conn_stat`, `calc_dist`\n",
        "\n",
        "* **Be Consistent:** Stick to the chosen naming convention throughout your codebase.\n",
        "\n",
        "* **Use Meaningful Names:** Even for temporary variables, try to use names that provide some context.\n",
        "  * Good: `temp_file`, `counter`\n",
        "  * Bad: `t`, `c`\n",
        "\n",
        "* **Avoid Single-Letter Names:** Except for very common loop counters like `i` or `j`.\n",
        "\n",
        "* **Use Verb-Noun Pairs for Functions:**  Function names should generally describe an action.\n",
        "  * Good: `get_data`, `validate_input`, `process_payment`\n",
        "\n",
        "* **Use Nouns for Variables:** Variable names should represent the data they hold.\n",
        "  * Good: `user_list`, `product_price`, `total_count`\n",
        "\n",
        "# **Specific Cases**\n",
        "\n",
        "* **Private Attributes:** Use a single leading underscore for attributes that should not be accessed directly from outside the class.\n",
        "  * Example: `_internal_state`\n",
        "\n",
        "* **Dunder Methods (Special Methods):** Use double leading and trailing underscores for special methods like `__init__` or `__str__`.\n",
        "\n",
        "# **Tools**\n",
        "\n",
        "* **Linters:** Tools like `pylint` and `flake8` can help enforce naming conventions and identify potential issues."
      ],
      "metadata": {
        "id": "m0RtAjQgYy4H"
      }
    },
    {
      "cell_type": "code",
      "source": [],
      "metadata": {
        "id": "G_MHitWRhldr"
      },
      "execution_count": null,
      "outputs": []
    },
    {
      "cell_type": "code",
      "source": [],
      "metadata": {
        "id": "GfTM2K4TY5ZD"
      },
      "execution_count": null,
      "outputs": []
    }
  ]
}